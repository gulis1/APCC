{
 "cells": [
  {
   "cell_type": "markdown",
   "metadata": {},
   "source": [
    "## Ejercicio 4\n",
    "\n",
    "Julián Cámara Miró"
   ]
  },
  {
   "cell_type": "code",
   "execution_count": 4,
   "metadata": {},
   "outputs": [],
   "source": [
    "import matplotlib.pyplot as plt\n",
    "\n",
    "def plot_histogram(result: dict, width=5) -> None:\n",
    "    \n",
    "    counts = sorted(result.items(), key=lambda x: x[0])\n",
    "    keys = [str(x[0]) for x in counts]\n",
    "    \n",
    "    values = [x[1] for x in counts]\n",
    "    plt.figure(figsize=(width, 5))\n",
    "    plt.bar_label(plt.bar(keys, [x / 1000 for x in values]), values)"
   ]
  },
  {
   "cell_type": "markdown",
   "metadata": {},
   "source": [
    "### 2 qubits - constante"
   ]
  },
  {
   "cell_type": "code",
   "execution_count": 2,
   "metadata": {},
   "outputs": [],
   "source": [
    "from braket.circuits import Circuit\n",
    "\n",
    "def hadamards(circuit: Circuit, n: int):\n",
    "    \n",
    "    for i in range(n):\n",
    "        circuit.h(i)"
   ]
  },
  {
   "cell_type": "code",
   "execution_count": 23,
   "metadata": {},
   "outputs": [
    {
     "name": "stdout",
     "output_type": "stream",
     "text": [
      "T  : |0|1|2|3|4|5|\n",
      "                  \n",
      "q0 : -H-H---------\n",
      "                  \n",
      "q1 : -H---C-X-C-H-\n",
      "          |   |   \n",
      "q2 : -X-H-X---X-H-\n",
      "\n",
      "T  : |0|1|2|3|4|5|\n"
     ]
    }
   ],
   "source": [
    "c2c = Circuit()\n",
    "\n",
    "c2c.x(2)\n",
    "hadamards(c2c, 3)\n",
    "\n",
    "c2c.cnot(1, 2)\n",
    "c2c.x(1)\n",
    "c2c.cnot(1, 2)\n",
    "\n",
    "hadamards(c2c, 3)\n",
    "\n",
    "print(c2c)\n"
   ]
  },
  {
   "cell_type": "markdown",
   "metadata": {},
   "source": [
    "Ejecutamos el circuito en los backends.\n",
    "\n",
    "Como a la hora de medir solo nos interesan los dos primeros qubits, quitamos de la medición el que no nos intersa.\n"
   ]
  },
  {
   "cell_type": "markdown",
   "metadata": {},
   "source": [
    "#### Rigetti:"
   ]
  },
  {
   "cell_type": "code",
   "execution_count": 24,
   "metadata": {},
   "outputs": [
    {
     "name": "stdout",
     "output_type": "stream",
     "text": [
      "Task: arn:aws:braket:us-west-1:975085098040:quantum-task/07833996-58d2-4c3f-b1a0-0e851d3c52c8\n",
      "Status: CREATED\n"
     ]
    }
   ],
   "source": [
    "from braket.aws import AwsDevice\n",
    "\n",
    "# Necesitamos configurar la región a us-west-1\n",
    "device = AwsDevice(\"arn:aws:braket:us-west-1::device/qpu/rigetti/Aspen-M-1\")\n",
    "s3_folder = (\"amazon-braket-f085dc433a90\", \"apcc2022/JulianCamara/Rigetti\")\n",
    "\n",
    "task = device.run(c2c, s3_folder)\n",
    "print(\"Task:\",task.id)\n",
    "print(\"Status:\", task.state())"
   ]
  },
  {
   "cell_type": "code",
   "execution_count": 26,
   "metadata": {},
   "outputs": [
    {
     "data": {
      "image/png": "[encoded data removed]",
      "text/plain": [
       "<Figure size 360x360 with 1 Axes>"
      ]
     },
     "metadata": {
      "needs_background": "light"
     },
     "output_type": "display_data"
    }
   ],
   "source": [
    "from collections import Counter\n",
    "from braket.aws import AwsQuantumTask\n",
    "\n",
    "task = AwsQuantumTask(arn=\"arn:aws:braket:us-west-1:975085098040:quantum-task/07833996-58d2-4c3f-b1a0-0e851d3c52c8\")\n",
    "\n",
    "if task.state() == \"COMPLETED\":\n",
    "    results = Counter([''.join(str(i) for i in x[:2]) for x in task.result().measurements])\n",
    "    plot_histogram(results)\n",
    "\n",
    "else:\n",
    "    print(task.state())"
   ]
  },
  {
   "cell_type": "markdown",
   "metadata": {},
   "source": [
    "#### IonQ:"
   ]
  },
  {
   "cell_type": "code",
   "execution_count": 27,
   "metadata": {},
   "outputs": [
    {
     "name": "stdout",
     "output_type": "stream",
     "text": [
      "Task: arn:aws:braket:us-east-1:975085098040:quantum-task/5ee10b8d-5775-4ef6-b94e-b98474571444\n",
      "Status: CREATED\n"
     ]
    }
   ],
   "source": [
    "from braket.aws import AwsDevice\n",
    "\n",
    "# Necesitamos configurar la región a us-west-1\n",
    "device = AwsDevice(\"arn:aws:braket:::device/qpu/ionq/ionQdevice\")\n",
    "s3_folder = (\"amazon-braket-f085dc433a90\", \"apcc2022/JulianCamara/IonQ\")\n",
    "\n",
    "task = device.run(c2c, s3_folder)\n",
    "print(\"Task:\",task.id)\n",
    "print(\"Status:\", task.state())"
   ]
  },
  {
   "cell_type": "code",
   "execution_count": 31,
   "metadata": {},
   "outputs": [
    {
     "data": {
      "image/png": "[encoded data removed]",
      "text/plain": [
       "<Figure size 360x360 with 1 Axes>"
      ]
     },
     "metadata": {
      "needs_background": "light"
     },
     "output_type": "display_data"
    }
   ],
   "source": [
    "from collections import Counter\n",
    "from braket.aws import AwsQuantumTask\n",
    "\n",
    "task = AwsQuantumTask(arn=\"arn:aws:braket:us-east-1:975085098040:quantum-task/5ee10b8d-5775-4ef6-b94e-b98474571444\")\n",
    "\n",
    "if task.state() == \"COMPLETED\":\n",
    "    results = Counter([''.join(str(i) for i in x[:2]) for x in task.result().measurements])\n",
    "    plot_histogram(results)\n",
    "\n",
    "else:\n",
    "    print(task.state())"
   ]
  },
  {
   "cell_type": "markdown",
   "metadata": {},
   "source": [
    "Vemos que en ambos casos se disntingue claramente que el resultado válido (sin interferencias de ruido), es el *00*. Al tratarse de un circuito bastante simple, la profunidad es bastante baja, por lo que el ruido apenas produce mediciones incorrectas."
   ]
  },
  {
   "cell_type": "markdown",
   "metadata": {},
   "source": [
    "### 2 qubits - Balanceada 1"
   ]
  },
  {
   "cell_type": "code",
   "execution_count": 34,
   "metadata": {},
   "outputs": [
    {
     "name": "stdout",
     "output_type": "stream",
     "text": [
      "T  : |0|1|2|3|4|\n",
      "                \n",
      "q0 : -H---C-H---\n",
      "          |     \n",
      "q1 : -H---|-C-H-\n",
      "          | |   \n",
      "q2 : -X-H-X-X-H-\n",
      "\n",
      "T  : |0|1|2|3|4|\n"
     ]
    }
   ],
   "source": [
    "c2b1 = Circuit()\n",
    "\n",
    "c2b1.x(2)\n",
    "hadamards(c2b1, 3)\n",
    "\n",
    "c2b1.cnot(0, 2)\n",
    "c2b1.cnot(1, 2)\n",
    "\n",
    "hadamards(c2b1, 3)\n",
    "\n",
    "print(c2b1)"
   ]
  },
  {
   "cell_type": "markdown",
   "metadata": {},
   "source": [
    "#### Rigetti"
   ]
  },
  {
   "cell_type": "code",
   "execution_count": 50,
   "metadata": {},
   "outputs": [
    {
     "name": "stdout",
     "output_type": "stream",
     "text": [
      "Task: arn:aws:braket:us-west-1:975085098040:quantum-task/6e9ddf69-6ef4-4d3f-8bc1-ac1dc1101c9b\n",
      "Status: CREATED\n"
     ]
    }
   ],
   "source": [
    "from braket.aws import AwsDevice\n",
    "\n",
    "# Necesitamos configurar la región a us-west-1\n",
    "device = AwsDevice(\"arn:aws:braket:us-west-1::device/qpu/rigetti/Aspen-M-1\")\n",
    "s3_folder = (\"amazon-braket-f085dc433a90\", \"apcc2022/JulianCamara/Rigetti\")\n",
    "\n",
    "task = device.run(c2b1, s3_folder)\n",
    "print(\"Task:\",task.id)\n",
    "print(\"Status:\", task.state())"
   ]
  },
  {
   "cell_type": "code",
   "execution_count": 52,
   "metadata": {},
   "outputs": [
    {
     "data": {
      "image/png": "[encoded data removed]",
      "text/plain": [
       "<Figure size 360x360 with 1 Axes>"
      ]
     },
     "metadata": {
      "needs_background": "light"
     },
     "output_type": "display_data"
    }
   ],
   "source": [
    "from collections import Counter\n",
    "from braket.aws import AwsQuantumTask\n",
    "\n",
    "task = AwsQuantumTask(arn=\"arn:aws:braket:us-west-1:975085098040:quantum-task/6e9ddf69-6ef4-4d3f-8bc1-ac1dc1101c9b\")\n",
    "\n",
    "if task.state() == \"COMPLETED\":\n",
    "    results = Counter([''.join(str(i) for i in x[:2]) for x in task.result().measurements])\n",
    "    plot_histogram(results)\n",
    "\n",
    "else:\n",
    "    print(task.state())"
   ]
  },
  {
   "cell_type": "markdown",
   "metadata": {},
   "source": [
    "Aunque hemos medido *(11)* la mayoría de las veces, el número de mediciones correctas es tan solo un 50% aproximadamente."
   ]
  },
  {
   "cell_type": "markdown",
   "metadata": {},
   "source": [
    "#### IonQ"
   ]
  },
  {
   "cell_type": "code",
   "execution_count": 37,
   "metadata": {},
   "outputs": [
    {
     "name": "stdout",
     "output_type": "stream",
     "text": [
      "Task: arn:aws:braket:us-east-1:975085098040:quantum-task/f64fe6aa-aee8-4b52-af69-fea8641d92e8\n",
      "Status: CREATED\n"
     ]
    }
   ],
   "source": [
    "from braket.aws import AwsDevice\n",
    "\n",
    "# Necesitamos configurar la región a us-west-1\n",
    "device = AwsDevice(\"arn:aws:braket:::device/qpu/ionq/ionQdevice\")\n",
    "s3_folder = (\"amazon-braket-f085dc433a90\", \"apcc2022/JulianCamara/IonQ\")\n",
    "\n",
    "task = device.run(c2b1, s3_folder)\n",
    "print(\"Task:\",task.id)\n",
    "print(\"Status:\", task.state())"
   ]
  },
  {
   "cell_type": "code",
   "execution_count": 46,
   "metadata": {},
   "outputs": [
    {
     "data": {
      "image/png": "[encoded data removed]",
      "text/plain": [
       "<Figure size 360x360 with 1 Axes>"
      ]
     },
     "metadata": {
      "needs_background": "light"
     },
     "output_type": "display_data"
    }
   ],
   "source": [
    "from collections import Counter\n",
    "from braket.aws import AwsQuantumTask\n",
    "\n",
    "task = AwsQuantumTask(arn=\"arn:aws:braket:us-east-1:975085098040:quantum-task/f64fe6aa-aee8-4b52-af69-fea8641d92e8\")\n",
    "\n",
    "if task.state() == \"COMPLETED\":\n",
    "    results = Counter([''.join(str(i) for i in x[:2]) for x in task.result().measurements])\n",
    "    plot_histogram(results)\n",
    "\n",
    "else:\n",
    "    print(task.state())"
   ]
  },
  {
   "cell_type": "markdown",
   "metadata": {},
   "source": [
    "En este caso vemos de nuevo que los computadores de IonQ proporcionan el mejor resultado. Vemos que solo hemos medidio *(00)* 2 veces en 1000 shots."
   ]
  },
  {
   "cell_type": "markdown",
   "metadata": {},
   "source": [
    "### 2 qubits - Balanceada 2"
   ]
  },
  {
   "cell_type": "code",
   "execution_count": 53,
   "metadata": {},
   "outputs": [
    {
     "name": "stdout",
     "output_type": "stream",
     "text": [
      "T  : |0|1|2|3|\n",
      "              \n",
      "q0 : -H-X-C-H-\n",
      "          |   \n",
      "q1 : -H-H-|---\n",
      "          |   \n",
      "q2 : -X-H-X-H-\n",
      "\n",
      "T  : |0|1|2|3|\n"
     ]
    }
   ],
   "source": [
    "c2b2 = Circuit()\n",
    "\n",
    "c2b2.x(2)\n",
    "hadamards(c2b2, 3)\n",
    "\n",
    "c2b2.x(0)\n",
    "c2b2.cnot(0, 2)\n",
    "\n",
    "hadamards(c2b2, 3)\n",
    "\n",
    "print(c2b2)"
   ]
  },
  {
   "cell_type": "markdown",
   "metadata": {},
   "source": [
    "#### Rigetti"
   ]
  },
  {
   "cell_type": "code",
   "execution_count": 44,
   "metadata": {},
   "outputs": [
    {
     "name": "stdout",
     "output_type": "stream",
     "text": [
      "Task: arn:aws:braket:us-west-1:975085098040:quantum-task/adf92a28-737a-4286-9e57-d8ac226630eb\n",
      "Status: CREATED\n"
     ]
    }
   ],
   "source": [
    "from braket.aws import AwsDevice\n",
    "\n",
    "# Necesitamos configurar la región a us-west-1\n",
    "device = AwsDevice(\"arn:aws:braket:us-west-1::device/qpu/rigetti/Aspen-M-1\")\n",
    "s3_folder = (\"amazon-braket-f085dc433a90\", \"apcc2022/JulianCamara/Rigetti\")\n",
    "\n",
    "task = device.run(c2b2, s3_folder)\n",
    "print(\"Task:\",task.id)\n",
    "print(\"Status:\", task.state())"
   ]
  },
  {
   "cell_type": "code",
   "execution_count": 45,
   "metadata": {},
   "outputs": [
    {
     "data": {
      "image/png": "[encoded data removed]",
      "text/plain": [
       "<Figure size 360x360 with 1 Axes>"
      ]
     },
     "metadata": {
      "needs_background": "light"
     },
     "output_type": "display_data"
    }
   ],
   "source": [
    "from collections import Counter\n",
    "from braket.aws import AwsQuantumTask\n",
    "\n",
    "task = AwsQuantumTask(arn=\"arn:aws:braket:us-west-1:975085098040:quantum-task/adf92a28-737a-4286-9e57-d8ac226630eb\")\n",
    "\n",
    "if task.state() == \"COMPLETED\":\n",
    "    results = Counter([''.join(str(i) for i in x[:2]) for x in task.result().measurements])\n",
    "    plot_histogram(results)\n",
    "\n",
    "else:\n",
    "    print(task.state())"
   ]
  },
  {
   "cell_type": "markdown",
   "metadata": {},
   "source": [
    "#### IonQ"
   ]
  },
  {
   "cell_type": "code",
   "execution_count": 54,
   "metadata": {},
   "outputs": [
    {
     "name": "stdout",
     "output_type": "stream",
     "text": [
      "Task: arn:aws:braket:us-east-1:975085098040:quantum-task/6bed5e04-bdcb-4cba-800e-9aec520999db\n",
      "Status: CREATED\n"
     ]
    }
   ],
   "source": [
    "from braket.aws import AwsDevice\n",
    "\n",
    "# Necesitamos configurar la región a us-west-1\n",
    "device = AwsDevice(\"arn:aws:braket:::device/qpu/ionq/ionQdevice\")\n",
    "s3_folder = (\"amazon-braket-f085dc433a90\", \"apcc2022/JulianCamara/IonQ\")\n",
    "\n",
    "task = device.run(c2b2, s3_folder)\n",
    "print(\"Task:\",task.id)\n",
    "print(\"Status:\", task.state())"
   ]
  },
  {
   "cell_type": "code",
   "execution_count": 56,
   "metadata": {},
   "outputs": [
    {
     "data": {
      "image/png": "[encoded data removed]",
      "text/plain": [
       "<Figure size 360x360 with 1 Axes>"
      ]
     },
     "metadata": {
      "needs_background": "light"
     },
     "output_type": "display_data"
    }
   ],
   "source": [
    "from collections import Counter\n",
    "from braket.aws import AwsQuantumTask\n",
    "\n",
    "task = AwsQuantumTask(arn=\"arn:aws:braket:us-east-1:975085098040:quantum-task/6bed5e04-bdcb-4cba-800e-9aec520999db\")\n",
    "\n",
    "if task.state() == \"COMPLETED\":\n",
    "    results = Counter([''.join(str(i) for i in x[:2]) for x in task.result().measurements])\n",
    "    plot_histogram(results)\n",
    "\n",
    "else:\n",
    "    print(task.state())"
   ]
  },
  {
   "cell_type": "markdown",
   "metadata": {},
   "source": [
    "Esta vez los resultados son bastante buenos en ambos backends."
   ]
  },
  {
   "cell_type": "markdown",
   "metadata": {},
   "source": [
    "### 3 qubits - Constante"
   ]
  },
  {
   "cell_type": "code",
   "execution_count": 14,
   "metadata": {},
   "outputs": [
    {
     "name": "stdout",
     "output_type": "stream",
     "text": [
      "T  : |0|1|2|3|4|5|6|7|8|\n",
      "                        \n",
      "q0 : -H---C-X-C-H-------\n",
      "          |   |         \n",
      "q1 : -H-H-|---|---------\n",
      "          |   |         \n",
      "q2 : -H---|---|-C-X-C-H-\n",
      "          |   | |   |   \n",
      "q3 : -X-H-X---X-X---X-H-\n",
      "\n",
      "T  : |0|1|2|3|4|5|6|7|8|\n"
     ]
    }
   ],
   "source": [
    "c3c = Circuit()\n",
    "\n",
    "c3c.x(3)\n",
    "hadamards(c3c, 4)\n",
    "\n",
    "\n",
    "c3c.cnot(0, 3)\n",
    "c3c.x(0)\n",
    "c3c.cnot(0, 3)\n",
    "\n",
    "c3c.cnot(2, 3)\n",
    "c3c.x(2)\n",
    "c3c.cnot(2, 3)\n",
    "\n",
    "hadamards(c3c, 4)\n",
    "\n",
    "print(c3c)"
   ]
  },
  {
   "cell_type": "markdown",
   "metadata": {},
   "source": [
    "#### Rigetti:"
   ]
  },
  {
   "cell_type": "code",
   "execution_count": 15,
   "metadata": {},
   "outputs": [
    {
     "name": "stdout",
     "output_type": "stream",
     "text": [
      "Task: arn:aws:braket:us-west-1:975085098040:quantum-task/e3ccd26d-0f8b-4a18-938d-6830930b3330\n",
      "Status: CREATED\n"
     ]
    }
   ],
   "source": [
    "from braket.aws import AwsDevice\n",
    "\n",
    "# Necesitamos configurar la región a us-west-1\n",
    "device = AwsDevice(\"arn:aws:braket:us-west-1::device/qpu/rigetti/Aspen-M-1\")\n",
    "s3_folder = (\"amazon-braket-f085dc433a90\", \"apcc2022/JulianCamara/Rigetti\")\n",
    "\n",
    "task = device.run(c3c, s3_folder)\n",
    "print(\"Task:\",task.id)\n",
    "print(\"Status:\", task.state())"
   ]
  },
  {
   "cell_type": "code",
   "execution_count": 17,
   "metadata": {},
   "outputs": [
    {
     "data": {
      "image/png": "[encoded data removed]",
      "text/plain": [
       "<Figure size 360x360 with 1 Axes>"
      ]
     },
     "metadata": {
      "needs_background": "light"
     },
     "output_type": "display_data"
    }
   ],
   "source": [
    "from collections import Counter\n",
    "from braket.aws import AwsQuantumTask\n",
    "\n",
    "task = AwsQuantumTask(arn=\"arn:aws:braket:us-west-1:975085098040:quantum-task/e3ccd26d-0f8b-4a18-938d-6830930b3330\")\n",
    "\n",
    "if task.state() == \"COMPLETED\":\n",
    "    results = Counter([''.join(str(i) for i in x[:3]) for x in task.result().measurements])\n",
    "    plot_histogram(results)\n",
    "\n",
    "else:\n",
    "    print(task.state())"
   ]
  },
  {
   "cell_type": "markdown",
   "metadata": {},
   "source": [
    "#### IonQ"
   ]
  },
  {
   "cell_type": "code",
   "execution_count": 18,
   "metadata": {},
   "outputs": [
    {
     "name": "stdout",
     "output_type": "stream",
     "text": [
      "Task: arn:aws:braket:us-east-1:975085098040:quantum-task/eaf43cf5-229f-41c4-a9b6-18e93ca70366\n",
      "Status: CREATED\n"
     ]
    }
   ],
   "source": [
    "from braket.aws import AwsDevice\n",
    "\n",
    "# Necesitamos configurar la región a us-west-1\n",
    "device = AwsDevice(\"arn:aws:braket:::device/qpu/ionq/ionQdevice\")\n",
    "s3_folder = (\"amazon-braket-f085dc433a90\", \"apcc2022/JulianCamara/IonQ\")\n",
    "\n",
    "task = device.run(c3c, s3_folder)\n",
    "print(\"Task:\",task.id)\n",
    "print(\"Status:\", task.state())"
   ]
  },
  {
   "cell_type": "code",
   "execution_count": 55,
   "metadata": {},
   "outputs": [
    {
     "data": {
      "image/png": "[encoded data removed]",
      "text/plain": [
       "<Figure size 360x360 with 1 Axes>"
      ]
     },
     "metadata": {
      "needs_background": "light"
     },
     "output_type": "display_data"
    }
   ],
   "source": [
    "from collections import Counter\n",
    "from braket.aws import AwsQuantumTask\n",
    "\n",
    "task = AwsQuantumTask(arn=\"arn:aws:braket:us-east-1:975085098040:quantum-task/eaf43cf5-229f-41c4-a9b6-18e93ca70366\")\n",
    "\n",
    "if task.state() == \"COMPLETED\":\n",
    "    results = Counter([''.join(str(i) for i in x[:3]) for x in task.result().measurements])\n",
    "    plot_histogram(results)\n",
    "\n",
    "else:\n",
    "    print(task.state())"
   ]
  },
  {
   "cell_type": "markdown",
   "metadata": {},
   "source": [
    "Vemos que en ambos casos se ve claramente que la función es constante, puesto que *(000)* es el único que se mide significativamente."
   ]
  },
  {
   "cell_type": "markdown",
   "metadata": {},
   "source": [
    "### 3 qubits - Balanceada 1"
   ]
  },
  {
   "cell_type": "code",
   "execution_count": 30,
   "metadata": {},
   "outputs": [
    {
     "name": "stdout",
     "output_type": "stream",
     "text": [
      "T  : |0|1|2|3|4|\n",
      "                \n",
      "q0 : -H---C-H---\n",
      "          |     \n",
      "q1 : -H-H-|-----\n",
      "          |     \n",
      "q2 : -H---|-C-H-\n",
      "          | |   \n",
      "q3 : -X-H-X-X-H-\n",
      "\n",
      "T  : |0|1|2|3|4|\n"
     ]
    }
   ],
   "source": [
    "c3b1 = Circuit()\n",
    "\n",
    "c3b1.x(3)\n",
    "hadamards(c3b1, 4)\n",
    "\n",
    "c3b1.cnot(0, 3)\n",
    "c3b1.cnot(2, 3)\n",
    "\n",
    "hadamards(c3b1, 4)\n",
    "\n",
    "print(c3b1)"
   ]
  },
  {
   "cell_type": "markdown",
   "metadata": {},
   "source": [
    "#### Rigetti"
   ]
  },
  {
   "cell_type": "code",
   "execution_count": 31,
   "metadata": {},
   "outputs": [
    {
     "name": "stdout",
     "output_type": "stream",
     "text": [
      "Task: arn:aws:braket:us-west-1:975085098040:quantum-task/bf3550f6-33e2-4648-9110-bb9559b7831f\n",
      "Status: CREATED\n"
     ]
    }
   ],
   "source": [
    "from braket.aws import AwsDevice\n",
    "\n",
    "# Necesitamos configurar la región a us-west-1\n",
    "device = AwsDevice(\"arn:aws:braket:us-west-1::device/qpu/rigetti/Aspen-M-1\")\n",
    "s3_folder = (\"amazon-braket-f085dc433a90\", \"apcc2022/JulianCamara/Rigetti\")\n",
    "\n",
    "task = device.run(c3b1, s3_folder)\n",
    "print(\"Task:\",task.id)\n",
    "print(\"Status:\", task.state())"
   ]
  },
  {
   "cell_type": "code",
   "execution_count": 33,
   "metadata": {},
   "outputs": [
    {
     "data": {
      "image/png": "[encoded data removed]",
      "text/plain": [
       "<Figure size 360x360 with 1 Axes>"
      ]
     },
     "metadata": {
      "needs_background": "light"
     },
     "output_type": "display_data"
    }
   ],
   "source": [
    "from collections import Counter\n",
    "from braket.aws import AwsQuantumTask\n",
    "\n",
    "task = AwsQuantumTask(arn=\"arn:aws:braket:us-west-1:975085098040:quantum-task/bf3550f6-33e2-4648-9110-bb9559b7831f\")\n",
    "\n",
    "if task.state() == \"COMPLETED\":\n",
    "    results = Counter([''.join(str(i) for i in x[:3]) for x in task.result().measurements])\n",
    "    plot_histogram(results)\n",
    "\n",
    "else:\n",
    "    print(task.state())"
   ]
  },
  {
   "cell_type": "markdown",
   "metadata": {},
   "source": [
    "#### IonQ"
   ]
  },
  {
   "cell_type": "code",
   "execution_count": 34,
   "metadata": {},
   "outputs": [
    {
     "name": "stdout",
     "output_type": "stream",
     "text": [
      "Task: arn:aws:braket:us-east-1:975085098040:quantum-task/5df76ca7-3fc6-44c1-8c37-69780ecf115f\n",
      "Status: CREATED\n"
     ]
    }
   ],
   "source": [
    "from braket.aws import AwsDevice\n",
    "\n",
    "# Necesitamos configurar la región a us-west-1\n",
    "device = AwsDevice(\"arn:aws:braket:::device/qpu/ionq/ionQdevice\")\n",
    "s3_folder = (\"amazon-braket-f085dc433a90\", \"apcc2022/JulianCamara/IonQ\")\n",
    "\n",
    "task = device.run(c3b1, s3_folder)\n",
    "print(\"Task:\",task.id)\n",
    "print(\"Status:\", task.state())"
   ]
  },
  {
   "cell_type": "code",
   "execution_count": 37,
   "metadata": {},
   "outputs": [
    {
     "data": {
      "image/png": "[encoded data removed]",
      "text/plain": [
       "<Figure size 360x360 with 1 Axes>"
      ]
     },
     "metadata": {
      "needs_background": "light"
     },
     "output_type": "display_data"
    }
   ],
   "source": [
    "from collections import Counter\n",
    "from braket.aws import AwsQuantumTask\n",
    "\n",
    "task = AwsQuantumTask(arn=\"arn:aws:braket:us-east-1:975085098040:quantum-task/5df76ca7-3fc6-44c1-8c37-69780ecf115f\")\n",
    "\n",
    "if task.state() == \"COMPLETED\":\n",
    "    results = Counter([''.join(str(i) for i in x[:3]) for x in task.result().measurements])\n",
    "    plot_histogram(results)\n",
    "\n",
    "else:\n",
    "    print(task.state())"
   ]
  },
  {
   "cell_type": "markdown",
   "metadata": {},
   "source": [
    "En este caso, los resultados en Rigetti son algo confusos, pero en IonQ se ve claramente que la función es balanceada."
   ]
  },
  {
   "cell_type": "markdown",
   "metadata": {},
   "source": [
    "#### 3 qubits - Balanceada 2"
   ]
  },
  {
   "cell_type": "code",
   "execution_count": 46,
   "metadata": {},
   "outputs": [
    {
     "name": "stdout",
     "output_type": "stream",
     "text": [
      "T  : |0|1|2|3|\n",
      "              \n",
      "q0 : -H-X-C-H-\n",
      "          |   \n",
      "q1 : -H-H-|---\n",
      "          |   \n",
      "q2 : -H-H-|---\n",
      "          |   \n",
      "q3 : -X-H-X-H-\n",
      "\n",
      "T  : |0|1|2|3|\n"
     ]
    }
   ],
   "source": [
    "c3b2 = Circuit()\n",
    "\n",
    "c3b2.x(3)\n",
    "hadamards(c3b2, 4)\n",
    "\n",
    "c3b2.x(0)\n",
    "c3b2.cnot(0, 3)\n",
    "\n",
    "hadamards(c3b2, 4)\n",
    "\n",
    "print(c3b2)"
   ]
  },
  {
   "cell_type": "markdown",
   "metadata": {},
   "source": [
    "#### Rigetti"
   ]
  },
  {
   "cell_type": "code",
   "execution_count": 47,
   "metadata": {},
   "outputs": [
    {
     "name": "stdout",
     "output_type": "stream",
     "text": [
      "Task: arn:aws:braket:us-west-1:975085098040:quantum-task/42e218c8-deac-4059-87e4-c7149d675ea1\n",
      "Status: CREATED\n"
     ]
    }
   ],
   "source": [
    "from braket.aws import AwsDevice\n",
    "\n",
    "# Necesitamos configurar la región a us-west-1\n",
    "device = AwsDevice(\"arn:aws:braket:us-west-1::device/qpu/rigetti/Aspen-M-1\")\n",
    "s3_folder = (\"amazon-braket-f085dc433a90\", \"apcc2022/JulianCamara/Rigetti\")\n",
    "\n",
    "task = device.run(c3b2, s3_folder)\n",
    "print(\"Task:\",task.id)\n",
    "print(\"Status:\", task.state())"
   ]
  },
  {
   "cell_type": "code",
   "execution_count": 60,
   "metadata": {},
   "outputs": [
    {
     "data": {
      "image/png": "[encoded data removed]",
      "text/plain": [
       "<Figure size 360x360 with 1 Axes>"
      ]
     },
     "metadata": {
      "needs_background": "light"
     },
     "output_type": "display_data"
    }
   ],
   "source": [
    "from collections import Counter\n",
    "from braket.aws import AwsQuantumTask\n",
    "\n",
    "task = AwsQuantumTask(arn=\"arn:aws:braket:us-west-1:975085098040:quantum-task/42e218c8-deac-4059-87e4-c7149d675ea1\")\n",
    "\n",
    "if task.state() == \"COMPLETED\":\n",
    "    results = Counter([''.join(str(i) for i in x[:3]) for x in task.result().measurements])\n",
    "    plot_histogram(results)\n",
    "\n",
    "else:\n",
    "    print(task.state())"
   ]
  },
  {
   "cell_type": "markdown",
   "metadata": {},
   "source": [
    "#### IonQ"
   ]
  },
  {
   "cell_type": "code",
   "execution_count": 50,
   "metadata": {},
   "outputs": [
    {
     "name": "stdout",
     "output_type": "stream",
     "text": [
      "Task: arn:aws:braket:us-east-1:975085098040:quantum-task/5672aacc-718c-4f74-8c93-68de03d8ec10\n",
      "Status: CREATED\n"
     ]
    }
   ],
   "source": [
    "from braket.aws import AwsDevice\n",
    "\n",
    "# Necesitamos configurar la región a us-west-1\n",
    "device = AwsDevice(\"arn:aws:braket:::device/qpu/ionq/ionQdevice\")\n",
    "s3_folder = (\"amazon-braket-f085dc433a90\", \"apcc2022/JulianCamara/IonQ\")\n",
    "\n",
    "task = device.run(c3b2, s3_folder)\n",
    "print(\"Task:\",task.id)\n",
    "print(\"Status:\", task.state())"
   ]
  },
  {
   "cell_type": "code",
   "execution_count": 53,
   "metadata": {},
   "outputs": [
    {
     "data": {
      "image/png": "[encoded data removed]",
      "text/plain": [
       "<Figure size 360x360 with 1 Axes>"
      ]
     },
     "metadata": {
      "needs_background": "light"
     },
     "output_type": "display_data"
    }
   ],
   "source": [
    "from collections import Counter\n",
    "from braket.aws import AwsQuantumTask\n",
    "\n",
    "task = AwsQuantumTask(arn=\"arn:aws:braket:us-east-1:975085098040:quantum-task/5672aacc-718c-4f74-8c93-68de03d8ec10\")\n",
    "\n",
    "if task.state() == \"COMPLETED\":\n",
    "    results = Counter([''.join(str(i) for i in x[:3]) for x in task.result().measurements])\n",
    "    plot_histogram(results)\n",
    "\n",
    "else:\n",
    "    print(task.state())"
   ]
  },
  {
   "cell_type": "markdown",
   "metadata": {},
   "source": [
    "En ambos backend obtenemos un resultado satisfactorio. "
   ]
  }
 ],
 "metadata": {
  "interpreter": {
   "hash": "403b4c66a1e0ce9d25ba8e0b4a886fa7f3ef3ac564ca5df296c1a46cd139a034"
  },
  "kernelspec": {
   "display_name": "Python 3.9.7 ('apccEnv': venv)",
   "language": "python",
   "name": "python3"
  },
  "language_info": {
   "codemirror_mode": {
    "name": "ipython",
    "version": 3
   },
   "file_extension": ".py",
   "mimetype": "text/x-python",
   "name": "python",
   "nbconvert_exporter": "python",
   "pygments_lexer": "ipython3",
   "version": "3.9.7"
  },
  "orig_nbformat": 4
 },
 "nbformat": 4,
 "nbformat_minor": 2
}
