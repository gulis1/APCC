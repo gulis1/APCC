{
 "cells": [
  {
   "cell_type": "markdown",
   "metadata": {},
   "source": [
    "### Ejercicio 2\n",
    "\n",
    "Julián Cámara Miró"
   ]
  },
  {
   "cell_type": "markdown",
   "metadata": {},
   "source": [
    "Para probar, vamos a definir una función que aplique n rotaciones a un unico qubit, cada una de pi/2**i rotaciones."
   ]
  },
  {
   "cell_type": "code",
   "execution_count": 5,
   "metadata": {},
   "outputs": [
    {
     "name": "stdout",
     "output_type": "stream",
     "text": [
      "a: ───X───Z───Z^0───Z───\n"
     ]
    }
   ],
   "source": [
    "import cirq\n",
    "from math import pi\n",
    "\n",
    "def n_rotaciones(n: int):\n",
    "\n",
    "    a = cirq.NamedQubit('a')\n",
    "    circuit = cirq.Circuit()\n",
    "\n",
    "    circuit.append(cirq.X(a))\n",
    "\n",
    "    for i in range(1, n+1):\n",
    "        circuit.append(cirq.Z(a)**2)\n",
    "\n",
    "    return circuit\n",
    "\n",
    "print(n_rotaciones(3))"
   ]
  },
  {
   "cell_type": "code",
   "execution_count": 6,
   "metadata": {},
   "outputs": [
    {
     "name": "stdout",
     "output_type": "stream",
     "text": [
      "a: ───X───Z───Z^0───\n",
      "[ 0.+0.j -1.+0.j]\n"
     ]
    }
   ],
   "source": [
    "import numpy as np\n",
    "np.set_printoptions(precision=2, suppress=False)\n",
    "\n",
    "sim = cirq.Simulator()\n",
    "\n",
    "circuit = n_rotaciones(2)\n",
    "print(circuit)\n",
    "\n",
    "vector_final = sim.simulate(circuit).final_state_vector\n",
    "print(vector_final)"
   ]
  },
  {
   "cell_type": "code",
   "execution_count": 19,
   "metadata": {},
   "outputs": [
    {
     "name": "stdout",
     "output_type": "stream",
     "text": [
      "              ┌──────┐   ┌───────┐   ┌──────┐\n",
      "0: ───H───@────@──────────@─────────────────────────────\n",
      "          │    │          │\n",
      "1: ───────@────┼────H─────┼─────@─────@─────────────────\n",
      "               │          │     │     │\n",
      "2: ────────────@^0.5──────┼─────@─────┼────H────@───────\n",
      "                          │           │         │\n",
      "3: ───────────────────────@^0.25──────@^0.5─────@───H───\n",
      "              └──────┘   └───────┘   └──────┘\n"
     ]
    }
   ],
   "source": [
    "import cirq\n",
    "\n",
    "qubits = cirq.LineQubit.range(4)\n",
    "circuit = cirq.Circuit(cirq.H(qubits[0]), cirq.CZ(qubits[1], qubits[0]), cirq.CZ(qubits[2], qubits[0])**0.5, cirq.CZ(qubits[3], qubits[0])**0.25,\n",
    "                       cirq.H(qubits[1]), cirq.CZ(qubits[2], qubits[1]), cirq.CZ(qubits[3], qubits[1])**0.5,\n",
    "                       cirq.H(qubits[2]), cirq.CZ(qubits[3], qubits[2]),\n",
    "                       cirq.H(qubits[3]))\n",
    "                    #    cirq.measure(qubits[0], qubits[1], qubits[2], qubits[3]))\n",
    "\n",
    "print(circuit)"
   ]
  },
  {
   "cell_type": "code",
   "execution_count": 42,
   "metadata": {},
   "outputs": [
    {
     "name": "stdout",
     "output_type": "stream",
     "text": [
      "[ 0.2  0.0]\n"
     ]
    }
   ],
   "source": [
    "import numpy as np\n",
    "np.set_printoptions(formatter={'float': '{: 0.1f}'.format})\n",
    "\n",
    "sim = cirq.Simulator()\n",
    "\n",
    "vector_final = sim.simulate(circuit).final_state_vector\n",
    "print(np.real(vector_final))"
   ]
  }
 ],
 "metadata": {
  "interpreter": {
   "hash": "403b4c66a1e0ce9d25ba8e0b4a886fa7f3ef3ac564ca5df296c1a46cd139a034"
  },
  "kernelspec": {
   "display_name": "Python 3.9.7 ('apccEnv': venv)",
   "language": "python",
   "name": "python3"
  },
  "language_info": {
   "codemirror_mode": {
    "name": "ipython",
    "version": 3
   },
   "file_extension": ".py",
   "mimetype": "text/x-python",
   "name": "python",
   "nbconvert_exporter": "python",
   "pygments_lexer": "ipython3",
   "version": "3.9.7"
  },
  "orig_nbformat": 4
 },
 "nbformat": 4,
 "nbformat_minor": 2
}
