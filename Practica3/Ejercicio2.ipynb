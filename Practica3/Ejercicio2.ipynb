{
 "cells": [
  {
   "cell_type": "markdown",
   "metadata": {},
   "source": [
    "### Ejercicio 2\n",
    "\n",
    "Julián Cámara Miró"
   ]
  },
  {
   "cell_type": "code",
   "execution_count": 45,
   "metadata": {},
   "outputs": [
    {
     "name": "stdout",
     "output_type": "stream",
     "text": [
      "                  ┌──────┐   ┌──────────┐   ┌──────┐\n",
      "0: ───H───@────────@──────────@────────────────────────────────────\n",
      "          │        │          │\n",
      "1: ───────@^0.5────┼────H─────┼────@─────────@─────────────────────\n",
      "                   │          │    │         │\n",
      "2: ────────────────@^0.5──────┼────@^0.5─────┼────H────@───────────\n",
      "                              │              │         │\n",
      "3: ───────────────────────────@^0.5──────────@^0.5─────@^0.5───H───\n",
      "                  └──────┘   └──────────┘   └──────┘\n"
     ]
    }
   ],
   "source": [
    "import cirq\n",
    "\n",
    "qubits = cirq.LineQubit.range(4)\n",
    "circuit = cirq.Circuit(cirq.H(qubits[0]), cirq.CZ(qubits[1], qubits[0])**0.5, cirq.CZ(qubits[2], qubits[0])**0.5, cirq.CZ(qubits[3], qubits[0])**0.5,\n",
    "                       cirq.H(qubits[1]), cirq.CZ(qubits[2], qubits[1])**0.5, cirq.CZ(qubits[3], qubits[1])**0.5,\n",
    "                       cirq.H(qubits[2]), cirq.CZ(qubits[3], qubits[2])**0.5,\n",
    "                       cirq.H(qubits[3]))\n",
    "                    #    cirq.measure(qubits[0], qubits[1], qubits[2], qubits[3]))\n",
    "\n",
    "print(circuit)"
   ]
  },
  {
   "cell_type": "markdown",
   "metadata": {},
   "source": [
    "La verdad que el dibujo del circuito no sale muy bien."
   ]
  },
  {
   "cell_type": "code",
   "execution_count": 46,
   "metadata": {},
   "outputs": [
    {
     "name": "stdout",
     "output_type": "stream",
     "text": [
      "[ 0.2  0.2  0.2  0.2  0.2  0.2  0.2  0.2  0.2  0.2  0.2  0.2  0.2  0.2\n",
      "  0.2  0.2]\n"
     ]
    }
   ],
   "source": [
    "import numpy as np\n",
    "np.set_printoptions(formatter={'float': '{: 0.1f}'.format})\n",
    "\n",
    "sim = cirq.Simulator()\n",
    "\n",
    "vector_final = sim.simulate(circuit).final_state_vector\n",
    "print(np.real(vector_final))"
   ]
  }
 ],
 "metadata": {
  "interpreter": {
   "hash": "403b4c66a1e0ce9d25ba8e0b4a886fa7f3ef3ac564ca5df296c1a46cd139a034"
  },
  "kernelspec": {
   "display_name": "Python 3.9.7 ('apccEnv': venv)",
   "language": "python",
   "name": "python3"
  },
  "language_info": {
   "codemirror_mode": {
    "name": "ipython",
    "version": 3
   },
   "file_extension": ".py",
   "mimetype": "text/x-python",
   "name": "python",
   "nbconvert_exporter": "python",
   "pygments_lexer": "ipython3",
   "version": "3.9.7"
  },
  "orig_nbformat": 4
 },
 "nbformat": 4,
 "nbformat_minor": 2
}
