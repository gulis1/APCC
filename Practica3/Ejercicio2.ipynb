{
 "cells": [
  {
   "cell_type": "markdown",
   "metadata": {},
   "source": [
    "### Ejercicio 2\n",
    "\n",
    "Julián Cámara Miró"
   ]
  },
  {
   "cell_type": "markdown",
   "metadata": {},
   "source": [
    "Para probar, vamos a definir una función que aplique n rotaciones a un unico qubit, cada una de pi/2**i rotaciones."
   ]
  },
  {
   "cell_type": "code",
   "execution_count": 26,
   "metadata": {},
   "outputs": [],
   "source": [
    "import cirq\n",
    "def n_rotaciones(circuit: cirq.Circuit, qubit: cirq.NamedQubit, n: int):\n",
    "\n",
    "    for i in range(1, n+1):\n",
    "        circuit.append(cirq.Z(qubit)**(0.5**i))\n",
    "\n",
    "    return circuit"
   ]
  },
  {
   "cell_type": "markdown",
   "metadata": {},
   "source": [
    "Probamos la función anterior. Vamos a probar con 2 rotaciones a un qubit de valor inicial 1. Si funciona correctamente, se debería obtener el siguiente resultado: \n",
    "\n",
    "$\\begin{pmatrix} 1  & 0 \\\\ 0 & e^{π/2} \\\\ \\end{pmatrix} \\Bigg(  \\begin{pmatrix} 1  & 0 \\\\ 0 & e^{π/4}  \\\\ \\end{pmatrix} \\big| 1 \\big \\rangle \\Bigg) = \\begin{pmatrix} 0 \\\\-sin(π/4) + cos(π/4) \\\\ \\end{pmatrix}\n",
    "$"
   ]
  },
  {
   "cell_type": "code",
   "execution_count": 29,
   "metadata": {},
   "outputs": [
    {
     "name": "stdout",
     "output_type": "stream",
     "text": [
      "Prueba: ───X───S───T───\n",
      "Resultado: [ 0.  +0.j   -0.71+0.71j]\n"
     ]
    }
   ],
   "source": [
    "import numpy as np\n",
    "np.set_printoptions(precision=2, suppress=False)\n",
    "\n",
    "qubit = cirq.NamedQubit('Prueba')\n",
    "circuit = cirq.Circuit()\n",
    "circuit.append(cirq.X(qubit))\n",
    "circuit = n_rotaciones(circuit, qubit, 2)\n",
    "\n",
    "print(circuit)\n",
    "\n",
    "sim = cirq.Simulator()\n",
    "vector_final = sim.simulate(circuit).final_state_vector\n",
    "print('Resultado:', vector_final)"
   ]
  },
  {
   "cell_type": "markdown",
   "metadata": {},
   "source": [
    "Vemos que el resultado coincide con el esperado. Ahora vamos a crear una función que nos cree el circuito de la QFT para n qubits."
   ]
  },
  {
   "cell_type": "code",
   "execution_count": 72,
   "metadata": {},
   "outputs": [
    {
     "name": "stdout",
     "output_type": "stream",
     "text": [
      "                      ┌───────┐\n",
      "0: ───X───H───@────────@──────────────────────\n",
      "              │        │\n",
      "1: ───────────@^0.5────┼─────H────@───────────\n",
      "                       │          │\n",
      "2: ────────────────────@^0.25─────@^0.5───H───\n",
      "                      └───────┘\n"
     ]
    }
   ],
   "source": [
    "# Función que nos crea el circuito de la QFT.\n",
    "# Los qubits se inicializan al valor proporcionado por el argumento 'ini'\n",
    "def QFT(N: int, ini: int):\n",
    "\n",
    "    qubits = cirq.LineQubit.range(N)\n",
    "    circuit = cirq.Circuit()\n",
    "\n",
    "    for i in range(N):\n",
    "        if (ini >> i & 0x1) == 1:\n",
    "            circuit.append(cirq.X(qubits[i]))\n",
    "\n",
    "    for i in range(N):\n",
    "        circuit.append(cirq.H(qubits[i]))\n",
    "        for j in range(i + 1, N):\n",
    "            circuit.append(cirq.CZ(qubits[j], qubits[i])**(0.5**(j-i)))\n",
    "\n",
    "    return circuit\n",
    "\n",
    "print(QFT(3, 0b001))"
   ]
  },
  {
   "cell_type": "code",
   "execution_count": 73,
   "metadata": {},
   "outputs": [
    {
     "name": "stdout",
     "output_type": "stream",
     "text": [
      "                      ┌───────┐   ┌────────────┐   ┌───────┐\n",
      "0: ───X───H───@────────@───────────@───────────────────────────────────────\n",
      "              │        │           │\n",
      "1: ───────────@^0.5────┼─────H─────┼──────@─────────@──────────────────────\n",
      "                       │           │      │         │\n",
      "2: ───X────────────────@^0.25──────┼──────@^0.5─────┼─────H────@───────────\n",
      "                                   │                │          │\n",
      "3: ───X────────────────────────────@^(1/8)──────────@^0.25─────@^0.5───H───\n",
      "                      └───────┘   └────────────┘   └───────┘\n",
      "Resultado: [ 0.25+0.j   -0.25+0.j    0.  -0.25j  0.  +0.25j -0.18+0.18j  0.18-0.18j\n",
      "  0.18+0.18j -0.18-0.18j -0.1 -0.23j  0.1 +0.23j -0.23+0.1j   0.23-0.1j\n",
      "  0.23+0.1j  -0.23-0.1j   0.1 -0.23j -0.1 +0.23j]\n"
     ]
    }
   ],
   "source": [
    "import numpy as np\n",
    "np.set_printoptions(formatter={'float': '{: 0.1f}'.format})\n",
    "\n",
    "circuit = QFT(4, 0b1101)\n",
    "print(circuit)\n",
    "\n",
    "sim = cirq.Simulator()\n",
    "vector_final = sim.simulate(circuit).final_state_vector\n",
    "print('Resultado:', vector_final)"
   ]
  }
 ],
 "metadata": {
  "interpreter": {
   "hash": "403b4c66a1e0ce9d25ba8e0b4a886fa7f3ef3ac564ca5df296c1a46cd139a034"
  },
  "kernelspec": {
   "display_name": "Python 3.9.7 ('apccEnv': venv)",
   "language": "python",
   "name": "python3"
  },
  "language_info": {
   "codemirror_mode": {
    "name": "ipython",
    "version": 3
   },
   "file_extension": ".py",
   "mimetype": "text/x-python",
   "name": "python",
   "nbconvert_exporter": "python",
   "pygments_lexer": "ipython3",
   "version": "3.9.7"
  },
  "orig_nbformat": 4
 },
 "nbformat": 4,
 "nbformat_minor": 2
}
