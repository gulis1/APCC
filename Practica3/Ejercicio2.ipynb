{
 "cells": [
  {
   "cell_type": "markdown",
   "metadata": {},
   "source": [
    "## Ejercicio 2\n",
    "\n",
    "Julián Cámara Miró"
   ]
  },
  {
   "cell_type": "markdown",
   "metadata": {},
   "source": [
    "### QFT"
   ]
  },
  {
   "cell_type": "markdown",
   "metadata": {},
   "source": [
    "Para probar, vamos a definir una función que aplique n rotaciones a un unico qubit, cada una de pi/2**i rotaciones."
   ]
  },
  {
   "cell_type": "code",
   "execution_count": 1,
   "metadata": {},
   "outputs": [],
   "source": [
    "import cirq\n",
    "def n_rotaciones(circuit: cirq.Circuit, qubit: cirq.NamedQubit, n: int):\n",
    "\n",
    "    for i in range(1, n+1):\n",
    "        circuit.append(cirq.Z(qubit)**(0.5**i))\n",
    "\n",
    "    return circuit"
   ]
  },
  {
   "cell_type": "markdown",
   "metadata": {},
   "source": [
    "Probamos la función anterior. Vamos a probar con 2 rotaciones a un qubit de valor inicial 1. Si funciona correctamente, el state_vector debería tomar el siguiente valor al final: \n",
    "\n",
    "$\\begin{pmatrix} 1  & 0 \\\\ 0 & e^{π/2} \\\\ \\end{pmatrix} \\Bigg(  \\begin{pmatrix} 1  & 0 \\\\ 0 & e^{π/4}  \\\\ \\end{pmatrix} \\big| 1 \\big \\rangle \\Bigg) = \\begin{pmatrix} 0 \\\\-sin(π/4) + cos(π/4) \\\\ \\end{pmatrix}\n",
    "$"
   ]
  },
  {
   "cell_type": "code",
   "execution_count": 8,
   "metadata": {},
   "outputs": [
    {
     "name": "stdout",
     "output_type": "stream",
     "text": [
      "Prueba: ───X───S───T───\n"
     ]
    },
    {
     "data": {
      "text/plain": [
       "measurements: (no measurements)\n",
       "output vector: (-0.707+0.707j)|1⟩"
      ]
     },
     "execution_count": 8,
     "metadata": {},
     "output_type": "execute_result"
    }
   ],
   "source": [
    "import numpy as np\n",
    "\n",
    "qubit = cirq.NamedQubit('Prueba')\n",
    "circuit = cirq.Circuit()\n",
    "circuit.append(cirq.X(qubit))\n",
    "circuit = n_rotaciones(circuit, qubit, 2)\n",
    "\n",
    "print(circuit)\n",
    "\n",
    "cirq.Simulator().simulate(circuit)"
   ]
  },
  {
   "cell_type": "markdown",
   "metadata": {},
   "source": [
    "Vemos que el resultado coincide con el esperado. Ahora vamos a crear una función que nos cree el circuito de la QFT para n qubits."
   ]
  },
  {
   "cell_type": "code",
   "execution_count": 22,
   "metadata": {},
   "outputs": [],
   "source": [
    "def QFT(qubits):\n",
    "\n",
    "    N = len(qubits)\n",
    "    circuit = cirq.Circuit()\n",
    "\n",
    "    for i in range(N):\n",
    "        circuit.append(cirq.H(qubits[i]))\n",
    "        for j in range(i + 1, N):\n",
    "            circuit.append(cirq.CZ(qubits[j], qubits[i])**(0.5**(j-i)))\n",
    "\n",
    "    return circuit"
   ]
  },
  {
   "cell_type": "markdown",
   "metadata": {},
   "source": [
    "Vamos a probar a obtener el circuito de la QFT para 2 qubits. Vamos a emplear como valores iniciales q0 = 0 y q1=1. El circuito debería realizar la siguiente operación:\n",
    "$\n",
    "\\bigg( I \\otimes H \\bigg) \\Bigg[CNOT \\cdot \\bigg(H\\big|0 \\big \\rangle \\otimes I \\big| 1 \\big \\rangle \\bigg) \\Bigg] = \\frac{1}{2} \\begin{pmatrix} 1 \\\\ -1 \\\\ i \\\\ -i \\\\ \\end{pmatrix}\n",
    "$"
   ]
  },
  {
   "cell_type": "code",
   "execution_count": 42,
   "metadata": {},
   "outputs": [
    {
     "name": "stdout",
     "output_type": "stream",
     "text": [
      "0: ───────H───@───────────\n",
      "              │\n",
      "1: ───X───────@^0.5───H───\n"
     ]
    },
    {
     "data": {
      "text/plain": [
       "measurements: (no measurements)\n",
       "output vector: 0.5|00⟩ - 0.5|01⟩ + 0.5j|10⟩ - 0.5j|11⟩"
      ]
     },
     "execution_count": 42,
     "metadata": {},
     "output_type": "execute_result"
    }
   ],
   "source": [
    "import numpy as np\n",
    "np.set_printoptions(formatter={'float': '{: 0.1f}'.format})\n",
    "\n",
    "qubits = cirq.LineQubit.range(2)\n",
    "circuit = cirq.Circuit(cirq.X(qubits[1]))\n",
    "\n",
    "circuit.append(QFT(qubits))\n",
    "\n",
    "print(circuit)\n",
    "\n",
    "cirq.Simulator().simulate(circuit)"
   ]
  },
  {
   "cell_type": "markdown",
   "metadata": {},
   "source": [
    "Consultando el state_vector, vemos que la función de la QFT funciona correctamente."
   ]
  },
  {
   "cell_type": "code",
   "execution_count": 12,
   "metadata": {},
   "outputs": [],
   "source": [
    "import matplotlib.pyplot as plt\n",
    "\n",
    "def plot_histogram(result: dict) -> None:\n",
    "    \n",
    "    counts = sorted(result.items(), key=lambda x: x[0])\n",
    "    keys = [str(x[0]) for x in counts]\n",
    "    values = [x[1] for x in counts]\n",
    "\n",
    "    plt.bar_label(plt.bar(keys, [x / 1000 for x in values]), values)"
   ]
  },
  {
   "cell_type": "markdown",
   "metadata": {},
   "source": [
    "Si quisieramos probar el circuito en un computador real, no podríamos consultar el state_vector. En este caso, para probar que funciona vamos a emplear la estrategia siguiente (con cuatro qubits): \n",
    "\n",
    "1. Inicializar los qubits a un estado conocida. Por ejemplo: 0110\n",
    "2. Aplicar el circuito de la qft. \n",
    "3. Aplicar el circuito inverso de la qft.\n",
    "4. Medir los qubits.\n",
    "\n",
    "Al medir los qubits, estos deberían colapsar al valor al que los inicializamos en el paso 1."
   ]
  },
  {
   "cell_type": "code",
   "execution_count": 44,
   "metadata": {},
   "outputs": [
    {
     "name": "stdout",
     "output_type": "stream",
     "text": [
      "                      ┌───────┐   ┌────────────┐   ┌───────┐                            ┌────────┐   ┌──────────────┐   ┌────────┐\n",
      "0: ───────H───@────────@───────────@──────────────────────────────────────────────────────────────────@──────────────────@───────────@────────H───M───\n",
      "              │        │           │                                                                  │                  │           │\n",
      "1: ───X───────@^0.5────┼─────H─────┼──────@─────────@────────────────────────────────────@────────────┼───────@──────────┼──────H────@^-0.5───M───────\n",
      "                       │           │      │         │                                    │            │       │          │\n",
      "2: ───X────────────────@^0.25──────┼──────@^0.5─────┼─────H────@───────────────@─────────┼──────H─────┼───────@^-0.5─────@^-0.25─────M────────────────\n",
      "                                   │                │          │               │         │            │\n",
      "3: ────────────────────────────────@^(1/8)──────────@^0.25─────@^0.5───H───H───@^-0.5────@^-0.25──────@^(-1/8)───────────M────────────────────────────\n",
      "                      └───────┘   └────────────┘   └───────┘                            └────────┘   └──────────────┘   └────────┘\n"
     ]
    },
    {
     "data": {
      "image/png": "[encoded data removed]",
      "text/plain": [
       "<Figure size 432x288 with 1 Axes>"
      ]
     },
     "metadata": {
      "needs_background": "light"
     },
     "output_type": "display_data"
    }
   ],
   "source": [
    "import numpy as np\n",
    "np.set_printoptions(formatter={'float': '{: 0.1f}'.format})\n",
    "\n",
    "\n",
    "qubits = cirq.LineQubit.range(4)\n",
    "circuit = cirq.Circuit(cirq.X(qubits[1]), cirq.X(qubits[2]))\n",
    "\n",
    "# Cargamos el circuito para la qft de cinco qubits.\n",
    "qft_circ = QFT(qubits)\n",
    "\n",
    "# Cargamos el circuito inverso al de la qft.\n",
    "inv = cirq.inverse(qft_circ)\n",
    "\n",
    "circuit.append(qft_circ)\n",
    "circuit.append(inv)\n",
    "\n",
    "# Medimos todos los qubits.\n",
    "for qubit in qubits:\n",
    "    circuit.append(cirq.measure(qubit))\n",
    "\n",
    "print(circuit)\n",
    "sim = cirq.Simulator()\n",
    "results = sim.run(circuit, repetitions=1000).multi_measurement_histogram(keys=qubits)\n",
    "plot_histogram(results)\n"
   ]
  },
  {
   "cell_type": "markdown",
   "metadata": {},
   "source": [
    "Efectivamente, vemos que ausencia de ruido, el resultado siempre coincide con el valor incial de los qubits."
   ]
  },
  {
   "cell_type": "markdown",
   "metadata": {},
   "source": [
    "### AQFT"
   ]
  },
  {
   "cell_type": "markdown",
   "metadata": {},
   "source": [
    "Definimos una función para crear el circuito para una AQFT. La función va a ser muy parecida a la de la QFT, pero limitando el número de rotaciones."
   ]
  },
  {
   "cell_type": "code",
   "execution_count": 2,
   "metadata": {},
   "outputs": [],
   "source": [
    "# Función que nos crea el circuito de la AQFT.\n",
    "def AQFT(qubits, n_rot=2):\n",
    "\n",
    "    N = len(qubits)\n",
    "    circuit = cirq.Circuit()\n",
    "\n",
    "    for i in range(N):\n",
    "        circuit.append(cirq.H(qubits[i]))\n",
    "        for j in range(i + 1, min(i+n_rot+1, N)):\n",
    "            circuit.append(cirq.CZ(qubits[j], qubits[i])**(0.5**(j-i)))\n",
    "\n",
    "    return circuit"
   ]
  },
  {
   "cell_type": "markdown",
   "metadata": {},
   "source": [
    "Como antes, vamos a probar el circuito de antes para 2 qubits, mirando el state_vector de la simulación."
   ]
  },
  {
   "cell_type": "code",
   "execution_count": 7,
   "metadata": {},
   "outputs": [
    {
     "name": "stdout",
     "output_type": "stream",
     "text": [
      "0: ───────H───@───────────\n",
      "              │\n",
      "1: ───X───────@^0.5───H───\n"
     ]
    },
    {
     "data": {
      "text/plain": [
       "measurements: (no measurements)\n",
       "output vector: 0.5|00⟩ - 0.5|01⟩ + 0.5j|10⟩ - 0.5j|11⟩"
      ]
     },
     "execution_count": 7,
     "metadata": {},
     "output_type": "execute_result"
    }
   ],
   "source": [
    "qubits = cirq.LineQubit.range(2)\n",
    "circuit = cirq.Circuit(cirq.X(qubits[1]))\n",
    "\n",
    "circuit.append(AQFT(qubits, n_rot=2))\n",
    "\n",
    "print(circuit)\n",
    "\n",
    "sim = cirq.Simulator()\n",
    "\n",
    "sim.simulate(circuit)"
   ]
  },
  {
   "cell_type": "markdown",
   "metadata": {},
   "source": [
    "El resultado es el correcto.\n",
    "\n",
    "Vamos a probar ahora con el segundo método que usamos anteriormente (Usando la AQFT inversa)."
   ]
  },
  {
   "cell_type": "code",
   "execution_count": 18,
   "metadata": {},
   "outputs": [
    {
     "name": "stdout",
     "output_type": "stream",
     "text": [
      "                      ┌───────┐           ┌───────┐                            ┌────────┐            ┌────────┐\n",
      "0: ───X───H───@────────@──────────────────────────────────────────────────────────────────────────────@───────────@────────H───M───\n",
      "              │        │                                                                              │           │\n",
      "1: ───X───────@^0.5────┼─────H────@────────@────────────────────────────────────@───────────@─────────┼──────H────@^-0.5───M───────\n",
      "                       │          │        │                                    │           │         │\n",
      "2: ────────────────────@^0.25─────@^0.5────┼─────H────@───────────────@─────────┼──────H────@^-0.5────@^-0.25─────M────────────────\n",
      "                                           │          │               │         │\n",
      "3: ────────────────────────────────────────@^0.25─────@^0.5───H───H───@^-0.5────@^-0.25─────M──────────────────────────────────────\n",
      "                      └───────┘           └───────┘                            └────────┘            └────────┘\n"
     ]
    },
    {
     "data": {
      "image/png": "[encoded data removed]",
      "text/plain": [
       "<Figure size 432x288 with 1 Axes>"
      ]
     },
     "metadata": {
      "needs_background": "light"
     },
     "output_type": "display_data"
    }
   ],
   "source": [
    "qubits = cirq.LineQubit.range(4)\n",
    "circuit = cirq.Circuit(cirq.X(qubits[0]), cirq.X(qubits[1]))\n",
    "\n",
    "aqft_cicuit = AQFT(qubits, n_rot=2)\n",
    "inv = cirq.inverse(AQFT(qubits))\n",
    "\n",
    "circuit.append(aqft_cicuit)\n",
    "circuit.append(inv)\n",
    "\n",
    "# Medimos todos los qubits.\n",
    "for qubit in qubits:\n",
    "    circuit.append(cirq.measure(qubit))\n",
    "\n",
    "print(circuit)\n",
    "sim = cirq.Simulator()\n",
    "results = sim.run(circuit, repetitions=1000).multi_measurement_histogram(keys=qubits)\n",
    "plot_histogram(results)"
   ]
  },
  {
   "cell_type": "markdown",
   "metadata": {},
   "source": [
    "A la salida siempre medimos el mismo valor que tenían inicialmente los qubits, por lo que el circuito funciona correctamente."
   ]
  }
 ],
 "metadata": {
  "interpreter": {
   "hash": "403b4c66a1e0ce9d25ba8e0b4a886fa7f3ef3ac564ca5df296c1a46cd139a034"
  },
  "kernelspec": {
   "display_name": "Python 3.9.7 ('apccEnv': venv)",
   "language": "python",
   "name": "python3"
  },
  "language_info": {
   "codemirror_mode": {
    "name": "ipython",
    "version": 3
   },
   "file_extension": ".py",
   "mimetype": "text/x-python",
   "name": "python",
   "nbconvert_exporter": "python",
   "pygments_lexer": "ipython3",
   "version": "3.9.7"
  },
  "orig_nbformat": 4
 },
 "nbformat": 4,
 "nbformat_minor": 2
}
