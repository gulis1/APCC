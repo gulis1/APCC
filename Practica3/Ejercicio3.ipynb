{
 "cells": [
  {
   "cell_type": "markdown",
   "metadata": {},
   "source": [
    "## Ejercicio 3"
   ]
  },
  {
   "cell_type": "code",
   "execution_count": 132,
   "metadata": {},
   "outputs": [],
   "source": [
    "import cirq"
   ]
  },
  {
   "cell_type": "code",
   "execution_count": 133,
   "metadata": {},
   "outputs": [],
   "source": [
    "import matplotlib.pyplot as plt\n",
    "\n",
    "def plot_histogram(result: dict, width=5) -> None:\n",
    "    \n",
    "    counts = sorted(result.items(), key=lambda x: x[0])\n",
    "    keys = [str(x[0]) for x in counts]\n",
    "    values = [x[1] for x in counts]\n",
    "    plt.figure(figsize=(width, 5))\n",
    "    plt.bar_label(plt.bar(keys, [x / 1000 for x in values]), values)"
   ]
  },
  {
   "cell_type": "markdown",
   "metadata": {},
   "source": [
    "### QFT"
   ]
  },
  {
   "cell_type": "markdown",
   "metadata": {},
   "source": [
    "Vamos a implementar el sumador de Draper de 4 bits usando el circuito de la QFT del ejercicio anterior.\n",
    "\n",
    "Para ello vamos a usar la función que definimos anteriormente."
   ]
  },
  {
   "cell_type": "code",
   "execution_count": 134,
   "metadata": {},
   "outputs": [],
   "source": [
    "def QFT(qubits):\n",
    "\n",
    "    N = len(qubits)\n",
    "    circuit = cirq.Circuit()\n",
    "\n",
    "    for i in range(N):\n",
    "        circuit.append(cirq.H(qubits[i]))\n",
    "        for j in range(i + 1, N):\n",
    "            circuit.append(cirq.CZ(qubits[j], qubits[i])**(0.5**(j-i)))\n",
    "\n",
    "    return circuit"
   ]
  },
  {
   "cell_type": "markdown",
   "metadata": {},
   "source": [
    "Vamos a definir una función que nos cree la parte intermedia del sumador de Draper.\n",
    "\n",
    "El circuito consiste en aplicar rotaciones controladas entre los distintos qubits de cada uno de los operandos."
   ]
  },
  {
   "cell_type": "code",
   "execution_count": 135,
   "metadata": {},
   "outputs": [
    {
     "name": "stdout",
     "output_type": "stream",
     "text": [
      "0: ───@───@───────────\n",
      "      │   │\n",
      "1: ───┼───┼───────@───\n",
      "      │   │       │\n",
      "2: ───@───┼───────┼───\n",
      "          │       │\n",
      "3: ───────@^0.5───@───\n"
     ]
    }
   ],
   "source": [
    "def adder(qubits):\n",
    "    \n",
    "    N = len(qubits) // 2\n",
    "    circuit = cirq.Circuit()\n",
    "\n",
    "    for i in range(N):\n",
    "        for j in range(i, N):\n",
    "            circuit.append(cirq.CZ(qubits[N + j], qubits[i])**(0.5**(j-i)))\n",
    "\n",
    "    return circuit\n",
    "\n",
    "# Probamos la función para 2 qubits.\n",
    "print(adder(cirq.LineQubit.range(2*2)))"
   ]
  },
  {
   "cell_type": "markdown",
   "metadata": {},
   "source": [
    "Vemos que la función crea el circuito correctamente.\n",
    "\n",
    "Ahora, para crear el sumador, vamos a conectar el circuito de la QFT, luego el del sumador, y finalmente la QFT inversa. Vamos a emplear 8 bits: el primer operando seran los qubits 0:3, y el segundo los qubits 4:7."
   ]
  },
  {
   "cell_type": "code",
   "execution_count": 136,
   "metadata": {},
   "outputs": [],
   "source": [
    "# Número de qubits de cada operando\n",
    "N = 4\n",
    "\n",
    "A = 0b0011  # Primer operando: 3\n",
    "B = 0b1001   # Segundo operando: 9\n",
    "\n",
    "qubits = cirq.LineQubit.range(2*N)\n",
    "circuit = cirq.Circuit()\n",
    "\n",
    "# Inicializamos los qubits opreando al valor que deseamos.\n",
    "for i in range(N):\n",
    "    \n",
    "    if ((A >> N - i - 1) & 0x1) == 1:\n",
    "        circuit.append(cirq.X(qubits[i]))\n",
    "\n",
    "    if (B >> N - i - 1 & 0x1) == 1:\n",
    "        circuit.append(cirq.X(qubits[N + i]))\n",
    "\n",
    "qft_circ = QFT(qubits[:N])\n",
    "circuit.append(qft_circ)\n",
    "\n",
    "circuit.append(adder(qubits))\n",
    "circuit.append(cirq.inverse(qft_circ))\n",
    "\n",
    "# Medimos unicamente los qubits 0:3, que son los que contienen A+B\n",
    "for qubit in qubits[:N]:\n",
    "    circuit.append(cirq.measure(qubit))"
   ]
  },
  {
   "cell_type": "markdown",
   "metadata": {},
   "source": [
    "El resultado de la suma debería salir por los qubits 0:3, mientras que los qubits 4:7 no deberían verse alterados (Se hace esto para mantener la reversibilidad del circuito). Por esto, vamos a medir únicamente los cuatro primeros qubits."
   ]
  },
  {
   "cell_type": "code",
   "execution_count": 137,
   "metadata": {},
   "outputs": [
    {
     "data": {
      "image/png": "[encoded data removed]",
      "text/plain": [
       "<Figure size 360x360 with 1 Axes>"
      ]
     },
     "metadata": {
      "needs_background": "light"
     },
     "output_type": "display_data"
    }
   ],
   "source": [
    "results = cirq.Simulator().run(circuit, repetitions=1000).multi_measurement_histogram(keys=qubits[:N])\n",
    "\n",
    "plot_histogram(results)"
   ]
  },
  {
   "cell_type": "markdown",
   "metadata": {},
   "source": [
    "Hemos sumado 9+3, y vemos que en asuencia de ruido, se ha medido el resultado 12 el 100% de las ejecuciones, por lo que el sumador funciona correctamete."
   ]
  },
  {
   "cell_type": "markdown",
   "metadata": {},
   "source": [
    "### AQFT"
   ]
  },
  {
   "cell_type": "markdown",
   "metadata": {},
   "source": [
    "Para implementar el sumador con la AQFT, tenemos que repetir el apartado anterior pero limitando el número de rotaciones de la QFT por cada qubit.\n",
    "\n",
    "Podemos usar la función que definimos en el ejercicio 2:"
   ]
  },
  {
   "cell_type": "code",
   "execution_count": 138,
   "metadata": {},
   "outputs": [],
   "source": [
    "# Función que nos crea el circuito de la AQFT.\n",
    "def AQFT(qubits, n_rot=2):\n",
    "\n",
    "    N = len(qubits)\n",
    "    circuit = cirq.Circuit()\n",
    "\n",
    "    for i in range(N):\n",
    "        circuit.append(cirq.H(qubits[i]))\n",
    "        for j in range(i + 1, min(i+n_rot+1, N)):\n",
    "            circuit.append(cirq.CZ(qubits[j], qubits[i])**(0.5**(j-i)))\n",
    "\n",
    "    return circuit"
   ]
  },
  {
   "cell_type": "markdown",
   "metadata": {},
   "source": [
    "Creamos el circuito para el sumador de la misma forma que en el apartado anterior."
   ]
  },
  {
   "cell_type": "code",
   "execution_count": 139,
   "metadata": {},
   "outputs": [],
   "source": [
    "# Número de qubits de cada operando\n",
    "N = 4\n",
    "\n",
    "A = 0b0101  # Primer operando: 5\n",
    "B = 0b0011  # Segundo operando: 3\n",
    "\n",
    "qubits = cirq.LineQubit.range(2*N)\n",
    "circuit = cirq.Circuit()\n",
    "\n",
    "# Inicializamos los qubits opreando al valor que deseamos.\n",
    "for i in range(N):\n",
    "    \n",
    "    if ((A >> N - i - 1) & 0x1) == 1:\n",
    "        circuit.append(cirq.X(qubits[i]))\n",
    "\n",
    "    if (B >> N - i - 1 & 0x1) == 1:\n",
    "        circuit.append(cirq.X(qubits[N + i]))\n",
    "\n",
    "qft_circ = AQFT(qubits[:N], n_rot=2)\n",
    "circuit.append(qft_circ)\n",
    "\n",
    "circuit.append(adder(qubits))\n",
    "circuit.append(cirq.inverse(qft_circ))\n",
    "\n",
    "# Medimos unicamente los qubits 0:3, que son los que contienen A+B\n",
    "for qubit in qubits[:N]:\n",
    "    circuit.append(cirq.measure(qubit))"
   ]
  },
  {
   "cell_type": "markdown",
   "metadata": {},
   "source": [
    "Probamos a sumar 5 + 3."
   ]
  },
  {
   "cell_type": "code",
   "execution_count": 140,
   "metadata": {},
   "outputs": [
    {
     "data": {
      "image/png": "[encoded data removed]",
      "text/plain": [
       "<Figure size 360x360 with 1 Axes>"
      ]
     },
     "metadata": {
      "needs_background": "light"
     },
     "output_type": "display_data"
    }
   ],
   "source": [
    "results = cirq.Simulator().run(circuit, repetitions=5000).multi_measurement_histogram(keys=qubits[:N])\n",
    "\n",
    "plot_histogram(results)"
   ]
  },
  {
   "cell_type": "markdown",
   "metadata": {},
   "source": [
    "Se aprecia aquí claramente el efecto de usar la AQFT en lugar de la QFT. Al utilizar un número límitado de rotaciones, existe una pequeña posibilidad de medir un resultado incorrecto. Vemos que en este caso, para dos rotaciones, hemos medido el resultado correcto un 96% de las veces, por lo que el resultado se puede dinstinguir perfectamente si se realizan varias repeticiones (shots).\n",
    "\n",
    "Para confirmar esto, vamos a probar a realizar la misma suma de antes, pero con distinto número de rotaciones. Esperamos que, a medida que aumenta el número de rotaciones, disminuya el error considerablemente. Para poder hacer más pruebas, vamos a aumentar el número de qubits a 6."
   ]
  },
  {
   "cell_type": "markdown",
   "metadata": {},
   "source": [
    "Por comodidad, vamos a crear una función."
   ]
  },
  {
   "cell_type": "code",
   "execution_count": 141,
   "metadata": {},
   "outputs": [],
   "source": [
    "def draper(N: int, A: int, B: int, n_rot: int):\n",
    "\n",
    "\n",
    "    qubits = cirq.LineQubit.range(2*N)\n",
    "    circuit = cirq.Circuit()\n",
    "\n",
    "    # Inicializamos los qubits opreando al valor que deseamos.\n",
    "    for i in range(N):\n",
    "        \n",
    "        if ((A >> N - i - 1) & 0x1) == 1:\n",
    "            circuit.append(cirq.X(qubits[i]))\n",
    "\n",
    "        if (B >> N - i - 1 & 0x1) == 1:\n",
    "            circuit.append(cirq.X(qubits[N + i]))\n",
    "\n",
    "    qft_circ = AQFT(qubits[:N], n_rot=n_rot)\n",
    "    circuit.append(qft_circ)\n",
    "\n",
    "    circuit.append(adder(qubits))\n",
    "    circuit.append(cirq.inverse(qft_circ))\n",
    "\n",
    "    # Medimos unicamente los qubits 0:3, que son los que contienen A+B\n",
    "    for qubit in qubits[:N]:\n",
    "        circuit.append(cirq.measure(qubit))\n",
    "\n",
    "    return circuit"
   ]
  },
  {
   "cell_type": "code",
   "execution_count": 152,
   "metadata": {},
   "outputs": [
    {
     "data": {
      "image/png": "[encoded data removed]",
      "text/plain": [
       "<Figure size 1080x360 with 1 Axes>"
      ]
     },
     "metadata": {
      "needs_background": "light"
     },
     "output_type": "display_data"
    }
   ],
   "source": [
    "# Una rotación\n",
    "N = 5\n",
    "results = cirq.Simulator().run(draper(N, 0b0101, 0b0011, 1), repetitions=5000).multi_measurement_histogram(keys=qubits[:N])\n",
    "plot_histogram(results, width=15)"
   ]
  },
  {
   "cell_type": "code",
   "execution_count": 157,
   "metadata": {},
   "outputs": [
    {
     "data": {
      "image/png": "[encoded data removed]",
      "text/plain": [
       "<Figure size 720x360 with 1 Axes>"
      ]
     },
     "metadata": {
      "needs_background": "light"
     },
     "output_type": "display_data"
    }
   ],
   "source": [
    "# Dos rotaciones\n",
    "results = cirq.Simulator().run(draper(N, 0b0101, 0b0011, 2), repetitions=5000).multi_measurement_histogram(keys=qubits[:N])\n",
    "plot_histogram(results, width=10)"
   ]
  },
  {
   "cell_type": "code",
   "execution_count": 156,
   "metadata": {},
   "outputs": [
    {
     "data": {
      "image/png": "[encoded data removed]",
      "text/plain": [
       "<Figure size 360x360 with 1 Axes>"
      ]
     },
     "metadata": {
      "needs_background": "light"
     },
     "output_type": "display_data"
    }
   ],
   "source": [
    "# Tres rotaciones\n",
    "results = cirq.Simulator().run(draper(N, 0b0101, 0b0011, 3), repetitions=5000).multi_measurement_histogram(keys=qubits[:N])\n",
    "plot_histogram(results)"
   ]
  },
  {
   "cell_type": "code",
   "execution_count": 159,
   "metadata": {},
   "outputs": [
    {
     "data": {
      "image/png": "[encoded data removed]",
      "text/plain": [
       "<Figure size 144x360 with 1 Axes>"
      ]
     },
     "metadata": {
      "needs_background": "light"
     },
     "output_type": "display_data"
    }
   ],
   "source": [
    "# Cuatro rotaciones\n",
    "results = cirq.Simulator().run(draper(N, 0b0101, 0b0011, 4), repetitions=5000).multi_measurement_histogram(keys=qubits[:N])\n",
    "plot_histogram(results, width=2)"
   ]
  },
  {
   "cell_type": "markdown",
   "metadata": {},
   "source": [
    "Efectivamente, vemos que la posibilidad de medir un resultado incorrecto disminuye a medida que nos acercamos al número de rotaciones de la QFT normal. \n",
    "\n",
    "Una rotación quizás pueda ser insuficiente, pero vemos que con dos rotaciones ya se obtiene una tasa de éxito bastante alta."
   ]
  }
 ],
 "metadata": {
  "interpreter": {
   "hash": "403b4c66a1e0ce9d25ba8e0b4a886fa7f3ef3ac564ca5df296c1a46cd139a034"
  },
  "kernelspec": {
   "display_name": "Python 3.9.7 ('apccEnv': venv)",
   "language": "python",
   "name": "python3"
  },
  "language_info": {
   "codemirror_mode": {
    "name": "ipython",
    "version": 3
   },
   "file_extension": ".py",
   "mimetype": "text/x-python",
   "name": "python",
   "nbconvert_exporter": "python",
   "pygments_lexer": "ipython3",
   "version": "3.9.7"
  },
  "orig_nbformat": 4
 },
 "nbformat": 4,
 "nbformat_minor": 2
}
