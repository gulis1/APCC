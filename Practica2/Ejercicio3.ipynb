{
 "cells": [
  {
   "cell_type": "markdown",
   "metadata": {},
   "source": [
    "La codificación superdensa permite enviar dos bits clásicos a traves de un solo qubit. Este protocolo es muy similar a la teleportación cuántica, pero ahora Alice envía un qubit a Bob, en lugar de dos bits clásicos, y Bob es capaz de decodificar el mensaje usando el qubit recibido. \n",
    "\n",
    "Podría decirse que este protocolo es el \"camino inverso\" al del circuito  correspondiente a la teleportación cuántica."
   ]
  },
  {
   "cell_type": "code",
   "execution_count": 6,
   "metadata": {},
   "outputs": [],
   "source": [
    "# Cargamos el simulador local.\n",
    "from braket.devices import LocalSimulator\n",
    "\n",
    "sim = LocalSimulator(\"default\")"
   ]
  },
  {
   "cell_type": "markdown",
   "metadata": {},
   "source": [
    "Se define el circuito que se va a emplear para simular la codificación superdensa. En este caso vamos a enviar el mensaje '01'."
   ]
  },
  {
   "cell_type": "code",
   "execution_count": 3,
   "metadata": {},
   "outputs": [
    {
     "name": "stdout",
     "output_type": "stream",
     "text": [
      "Profundidad: 5\n",
      "T  : |0|1|2|3|4|\n",
      "                \n",
      "q0 : ---X---X---\n",
      "        |   |   \n",
      "q1 : -H-C-Z-C-H-\n",
      "\n",
      "T  : |0|1|2|3|4|\n"
     ]
    }
   ],
   "source": [
    "from braket.circuits import Circuit\n",
    "\n",
    "def codificar_mensaje(circuito, mensaje):\n",
    "    \n",
    "    if mensaje[0] == '1':\n",
    "        circuito.x(1)\n",
    "    \n",
    "    if mensaje[1] == '1':\n",
    "        circuit.z(1)\n",
    "\n",
    "    return circuito\n",
    "\n",
    "# Se crea el par entrelazado.\n",
    "circuit = Circuit().h(1).cnot(1, 0)\n",
    "\n",
    "# Se codifica el mensaje a enviar. En este caso vamos a enviar '01'\n",
    "codificar_mensaje(circuit, \"01\")\n",
    "\n",
    "# Se decodifica el mensaje.\n",
    "circuit.cnot(1, 0).h(1)\n",
    "\n",
    "print(\"Profundidad:\", circuit.depth)\n",
    "print(circuit)\n"
   ]
  },
  {
   "cell_type": "markdown",
   "metadata": {},
   "source": [
    "Se realiza la simulación y se muestran los resultados."
   ]
  },
  {
   "cell_type": "code",
   "execution_count": 22,
   "metadata": {},
   "outputs": [
    {
     "name": "stdout",
     "output_type": "stream",
     "text": [
      "Counter({'01': 1000})\n"
     ]
    },
    {
     "data": {
      "image/png": "[encoded data removed]",
      "text/plain": [
       "<Figure size 432x288 with 1 Axes>"
      ]
     },
     "metadata": {
      "needs_background": "light"
     },
     "output_type": "display_data"
    }
   ],
   "source": [
    "import matplotlib.pyplot as plt\n",
    "\n",
    "counts = sim.run(circuit, shots=1000).result().measurement_counts\n",
    "\n",
    "\n",
    "plt.bar(counts.keys(), [x / 1000.0 for x in counts.values()])\n",
    "print(counts)"
   ]
  },
  {
   "cell_type": "markdown",
   "metadata": {},
   "source": [
    "Vemos que, como hemos realizado la simulación sin ruido, el 100% de las veces medimos '01', que coincide con el mensaje que se quería enviar, por lo que el circuito funciona correctamente."
   ]
  },
  {
   "cell_type": "markdown",
   "metadata": {},
   "source": [
    "### Simulación con ruido"
   ]
  },
  {
   "cell_type": "code",
   "execution_count": 7,
   "metadata": {},
   "outputs": [],
   "source": [
    "from braket.devices import LocalSimulator\n",
    "\n",
    "sim = LocalSimulator(\"braket_dm\")"
   ]
  },
  {
   "cell_type": "markdown",
   "metadata": {},
   "source": [
    "Definimos el mismo circuito de antes, pero esta vez con ruido."
   ]
  },
  {
   "cell_type": "code",
   "execution_count": 13,
   "metadata": {},
   "outputs": [
    {
     "name": "stdout",
     "output_type": "stream",
     "text": [
      "Profundidad: 5\n",
      "T  : |    0    |    1    |    2    |    3    |    4    |\n",
      "                                                        \n",
      "q0 : -----------X-BF(0.2)-----------X-BF(0.2)-----------\n",
      "                |                   |                   \n",
      "q1 : -H-BF(0.2)-C-BF(0.2)-Z-BF(0.2)-C-BF(0.2)-H-BF(0.2)-\n",
      "\n",
      "T  : |    0    |    1    |    2    |    3    |    4    |\n"
     ]
    }
   ],
   "source": [
    "from braket.circuits import Circuit, Noise\n",
    "\n",
    "# Se crea el par entrelazado.\n",
    "circuit = Circuit().h(1).cnot(1, 0)\n",
    "\n",
    "# Se codifica el mensaje a enviar. En este caso vamos a enviar '01'\n",
    "codificar_mensaje(circuit, \"01\")\n",
    "\n",
    "\n",
    "noise = Noise.BitFlip(0.2)\n",
    "# Se decodifica el mensaje.\n",
    "circuit.cnot(1, 0).h(1).apply_gate_noise(noise)\n",
    "print(\"Profundidad:\", circuit.depth)\n",
    "print(circuit)"
   ]
  },
  {
   "cell_type": "code",
   "execution_count": 24,
   "metadata": {},
   "outputs": [
    {
     "name": "stdout",
     "output_type": "stream",
     "text": [
      "Counter({'01': 465, '11': 341, '00': 112, '10': 82})\n"
     ]
    },
    {
     "data": {
      "image/png": "[encoded data removed]",
      "text/plain": [
       "<Figure size 432x288 with 1 Axes>"
      ]
     },
     "metadata": {
      "needs_background": "light"
     },
     "output_type": "display_data"
    }
   ],
   "source": [
    "import matplotlib.pyplot as plt\n",
    "\n",
    "counts = sim.run(circuit, shots=1000).result().measurement_counts\n",
    "\n",
    "\n",
    "plt.bar(counts.keys(), [x / 1000.0 for x in counts.values()])\n",
    "print(counts)"
   ]
  }
 ],
 "metadata": {
  "interpreter": {
   "hash": "ed3bb5e5cae2bee604be0ce107cddcbe477d1f55b7585d673d0cd5ec254712b1"
  },
  "kernelspec": {
   "display_name": "Python 3.9.7 ('braketEnv': venv)",
   "language": "python",
   "name": "python3"
  },
  "language_info": {
   "codemirror_mode": {
    "name": "ipython",
    "version": 3
   },
   "file_extension": ".py",
   "mimetype": "text/x-python",
   "name": "python",
   "nbconvert_exporter": "python",
   "pygments_lexer": "ipython3",
   "version": "3.9.7"
  },
  "orig_nbformat": 4
 },
 "nbformat": 4,
 "nbformat_minor": 2
}
