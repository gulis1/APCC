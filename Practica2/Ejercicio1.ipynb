{
 "cells": [
  {
   "cell_type": "markdown",
   "metadata": {},
   "source": [
    "## Ejercicio 1"
   ]
  },
  {
   "cell_type": "markdown",
   "metadata": {},
   "source": [
    "Creamos el circuito para el generador de números."
   ]
  },
  {
   "cell_type": "code",
   "execution_count": 22,
   "metadata": {},
   "outputs": [],
   "source": [
    "from braket.circuits import Circuit\n",
    "circuit = Circuit().h(0)"
   ]
  },
  {
   "cell_type": "markdown",
   "metadata": {},
   "source": [
    "#### Probamos con el simulador por defecto. (Vector de estados)"
   ]
  },
  {
   "cell_type": "code",
   "execution_count": 24,
   "metadata": {},
   "outputs": [
    {
     "name": "stdout",
     "output_type": "stream",
     "text": [
      "Counter({'0': 517, '1': 483})\n"
     ]
    },
    {
     "data": {
      "image/png": "[encoded data removed]",
      "text/plain": [
       "<Figure size 432x288 with 1 Axes>"
      ]
     },
     "metadata": {
      "needs_background": "light"
     },
     "output_type": "display_data"
    }
   ],
   "source": [
    "from braket.devices import LocalSimulator\n",
    "from matplotlib import pyplot as plt\n",
    "\n",
    "device = LocalSimulator(\"default\")\n",
    "\n",
    "\n",
    "\n",
    "result = device.run(circuit, shots=1000).result().measurement_counts\n",
    "\n",
    "plt.bar(result.keys(), result.values())\n",
    "print(result)\n"
   ]
  },
  {
   "cell_type": "markdown",
   "metadata": {},
   "source": [
    "Se obtiene el resultado esperado. Vemos que la proporcion de ceros y unos obtenidos varía en cada simulación.\n"
   ]
  },
  {
   "cell_type": "markdown",
   "metadata": {},
   "source": [
    "#### Probamos con otro simulador (Matriz de densidad)."
   ]
  },
  {
   "cell_type": "code",
   "execution_count": 43,
   "metadata": {},
   "outputs": [
    {
     "name": "stdout",
     "output_type": "stream",
     "text": [
      "Counter({'1': 524, '0': 476})\n"
     ]
    },
    {
     "name": "stderr",
     "output_type": "stream",
     "text": [
      "/home/gulis/Desktop/APCC/braketEnv/lib/python3.9/site-packages/braket/default_simulator/simulator.py:156: UserWarning: You are running a noise-free circuit on the density matrix simulator. Consider running this circuit on the state vector simulator: LocalSimulator(\"default\") for a better user experience.\n",
      "  warnings.warn(\n"
     ]
    },
    {
     "data": {
      "image/png": "[encoded data removed]",
      "text/plain": [
       "<Figure size 432x288 with 1 Axes>"
      ]
     },
     "metadata": {
      "needs_background": "light"
     },
     "output_type": "display_data"
    }
   ],
   "source": [
    "from braket.circuits import Circuit\n",
    "from braket.devices import LocalSimulator\n",
    "from matplotlib import pyplot as plt\n",
    "\n",
    "device = LocalSimulator(\"braket_dm\")\n",
    "\n",
    "circuit = Circuit().h(0)\n",
    "\n",
    "result = device.run(circuit, shots=1000).result().measurement_counts\n",
    "\n",
    "plt.bar(result.keys(), result.values())\n",
    "print(result)\n"
   ]
  },
  {
   "cell_type": "markdown",
   "metadata": {},
   "source": [
    "Los resultados son similares a los anteriores. En este caso, Braket nos avisa de que para realizar simulaciones sin ruido conviene usar la simulación por vector de estados, ya que la matriz de densidad está pensada especialmente para simular ruido.\n",
    "\n",
    "No merece la pensa introducir ruido en estas simulaciones, ya que solo se utiliza en qubit."
   ]
  }
 ],
 "metadata": {
  "interpreter": {
   "hash": "ed3bb5e5cae2bee604be0ce107cddcbe477d1f55b7585d673d0cd5ec254712b1"
  },
  "kernelspec": {
   "display_name": "Python 3.9.7 ('braketEnv': venv)",
   "language": "python",
   "name": "python3"
  },
  "language_info": {
   "codemirror_mode": {
    "name": "ipython",
    "version": 3
   },
   "file_extension": ".py",
   "mimetype": "text/x-python",
   "name": "python",
   "nbconvert_exporter": "python",
   "pygments_lexer": "ipython3",
   "version": "3.9.7"
  },
  "orig_nbformat": 4
 },
 "nbformat": 4,
 "nbformat_minor": 2
}
