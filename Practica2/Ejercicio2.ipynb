{
 "cells": [
  {
   "cell_type": "code",
   "execution_count": 1,
   "metadata": {},
   "outputs": [],
   "source": [
    "from braket.devices import LocalSimulator\n",
    "\n",
    "device = LocalSimulator(\"default\")"
   ]
  },
  {
   "cell_type": "code",
   "execution_count": 97,
   "metadata": {},
   "outputs": [
    {
     "name": "stdout",
     "output_type": "stream",
     "text": [
      "T  : |0|1|2|3|\n",
      "              \n",
      "q0 : -H-C-X---\n",
      "        | |   \n",
      "q1 : ---X-|---\n",
      "          |   \n",
      "q2 : -----C-H-\n",
      "\n",
      "T  : |0|1|2|3|\n"
     ]
    }
   ],
   "source": [
    "from braket.circuits import Circuit\n",
    "\n",
    "# 0: R\n",
    "# 1: S\n",
    "# 2: Q\n",
    "\n",
    "# H(0)\n",
    "alice = Circuit().h(0).cnot(0, 1).cnot(2, 0).h(2)\n",
    "\n",
    "print(alice)"
   ]
  },
  {
   "cell_type": "code",
   "execution_count": 96,
   "metadata": {},
   "outputs": [
    {
     "data": {
      "text/plain": [
       "Counter({'000': 1})"
      ]
     },
     "execution_count": 96,
     "metadata": {},
     "output_type": "execute_result"
    }
   ],
   "source": [
    "device.run(alice, shots=1).result().measurement_counts"
   ]
  }
 ],
 "metadata": {
  "interpreter": {
   "hash": "ed3bb5e5cae2bee604be0ce107cddcbe477d1f55b7585d673d0cd5ec254712b1"
  },
  "kernelspec": {
   "display_name": "Python 3.9.7 ('braketEnv': venv)",
   "language": "python",
   "name": "python3"
  },
  "language_info": {
   "codemirror_mode": {
    "name": "ipython",
    "version": 3
   },
   "file_extension": ".py",
   "mimetype": "text/x-python",
   "name": "python",
   "nbconvert_exporter": "python",
   "pygments_lexer": "ipython3",
   "version": "3.9.7"
  },
  "orig_nbformat": 4
 },
 "nbformat": 4,
 "nbformat_minor": 2
}
