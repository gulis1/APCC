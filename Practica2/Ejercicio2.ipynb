{
 "cells": [
  {
   "cell_type": "markdown",
   "metadata": {},
   "source": [
    "## Ejercicio 2"
   ]
  },
  {
   "cell_type": "markdown",
   "metadata": {},
   "source": [
    "### a)"
   ]
  },
  {
   "cell_type": "markdown",
   "metadata": {},
   "source": [
    "Primero cargamos el simulador que vamos a usar."
   ]
  },
  {
   "cell_type": "code",
   "execution_count": null,
   "metadata": {},
   "outputs": [],
   "source": [
    "from braket.devices import LocalSimulator\n",
    "\n",
    "sim = LocalSimulator(\"default\")"
   ]
  },
  {
   "cell_type": "markdown",
   "metadata": {},
   "source": [
    "Definimos dos circuitos:\n",
    "\n",
    " - Circuit0: con q0 inicializado a 0.\n",
    " - Circuit1: con q0 inicializado a 1.\n",
    "\n",
    "Los circuitos son practicamente idénticos. La única diferencia es que en circuit1, para inicializar q0 a 1 vamos a poner una puerta X (not) en q0 al inicio del circuito.\n",
    "\n",
    "q0 va a ser el qubit a enviar, mientras que el resultado va a aparecer en q2."
   ]
  },
  {
   "cell_type": "code",
   "execution_count": 71,
   "metadata": {},
   "outputs": [
    {
     "name": "stdout",
     "output_type": "stream",
     "text": [
      "T  : |0|1|2|3|4|\n",
      "                \n",
      "q0 : -----C-H-C-\n",
      "          |   | \n",
      "q1 : -H-C-X-C-|-\n",
      "        |   | | \n",
      "q2 : ---X---X-Z-\n",
      "\n",
      "T  : |0|1|2|3|4|\n"
     ]
    }
   ],
   "source": [
    "from braket.circuits import Circuit\n",
    "\n",
    "                  \n",
    "circuit0 = Circuit().h(1).cnot(1, 2).cnot(0, 1).h(0).cnot(1, 2).cz(0, 2)\n",
    "\n",
    "# Ya que los qubit valen 0 por defecto, para inicializar q0 a 1 basta con usar una puerta x (not).\n",
    "circuit1 = Circuit().x(0).h(1).cnot(1, 2).cnot(0, 1).h(0).cnot(1, 2).cz(0, 2)\n",
    "\n",
    "print(circuit0)"
   ]
  },
  {
   "cell_type": "markdown",
   "metadata": {},
   "source": [
    "Lanzamos la simulación con 1000 shots."
   ]
  },
  {
   "cell_type": "code",
   "execution_count": 69,
   "metadata": {},
   "outputs": [
    {
     "name": "stdout",
     "output_type": "stream",
     "text": [
      "{'0': 1.0, '1': 0.0}\n"
     ]
    },
    {
     "data": {
      "image/png": "[encoded data removed]",
      "text/plain": [
       "<Figure size 432x288 with 1 Axes>"
      ]
     },
     "metadata": {
      "needs_background": "light"
     },
     "output_type": "display_data"
    }
   ],
   "source": [
    "import matplotlib.pylab as plt\n",
    "# Comenzamos la simulación y obtenemos las mediciones.\n",
    "measurements = sim.run(circuit0, shots = 1000).result().measurements\n",
    "\n",
    "# Nos quedamos solo con las mediciones de q2.\n",
    "ceros = len([x for x in measurements if x[2] == 0]) / 1000\n",
    "results = {'0': ceros, \n",
    "           '1': 1 - ceros}\n",
    "\n",
    "# Se muestran los resultados.\n",
    "plt.bar(results.keys(), results.values())\n",
    "print(results)"
   ]
  },
  {
   "cell_type": "markdown",
   "metadata": {},
   "source": [
    "Vemos que los resultados son los esperados.\n",
    "\n",
    "El estado inicial del qubit 0 se transfiere siempre al qubit 2. La tasa de éxito es del 100% en los 100 shots ejecutados, ya que la simulación se ha efectuado sin ruido. Como q0 vale 0 inicialmente, la medición siempre resulta en 0."
   ]
  },
  {
   "cell_type": "markdown",
   "metadata": {},
   "source": [
    "Probamos ahora con circuit1."
   ]
  },
  {
   "cell_type": "code",
   "execution_count": 30,
   "metadata": {},
   "outputs": [
    {
     "name": "stdout",
     "output_type": "stream",
     "text": [
      "{'0': 0.0, '1': 1.0}\n"
     ]
    },
    {
     "data": {
      "image/png": "[encoded data removed]",
      "text/plain": [
       "<Figure size 432x288 with 1 Axes>"
      ]
     },
     "metadata": {
      "needs_background": "light"
     },
     "output_type": "display_data"
    }
   ],
   "source": [
    "import matplotlib.pylab as plt\n",
    "\n",
    "measurements = sim.run(circuit1, shots = 1000).result().measurements\n",
    "\n",
    "# Nos quedamos solo con las mediciones de q2.\n",
    "ceros = len([x for x in measurements if x[2] == 0]) / 1000\n",
    "results = {'0': ceros, \n",
    "           '1': 1 - ceros}\n",
    "\n",
    "# Se muestran los resultados.\n",
    "plt.bar(results.keys(), results.values())\n",
    "print(results)"
   ]
  },
  {
   "cell_type": "markdown",
   "metadata": {},
   "source": [
    "Efectivamente, ahora el 100% de las mediciones realizadas sobre q2 al final de cada ejecución dan 1 como resultado."
   ]
  },
  {
   "cell_type": "markdown",
   "metadata": {},
   "source": []
  },
  {
   "cell_type": "markdown",
   "metadata": {},
   "source": [
    "### b)"
   ]
  },
  {
   "cell_type": "code",
   "execution_count": 60,
   "metadata": {},
   "outputs": [],
   "source": [
    "sim = LocalSimulator(\"braket_sv\")"
   ]
  },
  {
   "cell_type": "markdown",
   "metadata": {},
   "source": [
    "Establecemos el tipo de la salida de los nuevos circuitos a state_vector"
   ]
  },
  {
   "cell_type": "code",
   "execution_count": 75,
   "metadata": {},
   "outputs": [],
   "source": [
    "circuit0_sv = circuit0.state_vector()\n",
    "circuit1_sv = circuit1.state_vector()"
   ]
  },
  {
   "cell_type": "code",
   "execution_count": 77,
   "metadata": {},
   "outputs": [
    {
     "name": "stdout",
     "output_type": "stream",
     "text": [
      "[ 0.5  0.0  0.5  0.0  0.5  0.0  0.5  0.0]\n"
     ]
    }
   ],
   "source": [
    "import numpy as np\n",
    "\n",
    "vector = sim.run(circuit0_sv, shots=0).result().values[0]\n",
    "\n",
    "# Para que quede más bonito se descarta la parte imaginaria (siempre vale 0) y se\n",
    "# cambia el formato de impresión.\n",
    "np.set_printoptions(formatter={'float': '{: 0.1f}'.format})\n",
    "print(np.real(vector))  "
   ]
  },
  {
   "cell_type": "markdown",
   "metadata": {},
   "source": [
    "Vemos en este caso que los únicos estados que tienen probabilidad de medirse son aquellos en los que q2 vale 0.\n",
    "\n",
    "Se observa que 0.5⁴ = 1, por lo que el estado final del vector es válido.\n",
    "\n",
    "Ahora vamos a probar con q1 inicializado a 1."
   ]
  },
  {
   "cell_type": "code",
   "execution_count": 79,
   "metadata": {},
   "outputs": [
    {
     "name": "stdout",
     "output_type": "stream",
     "text": [
      "[ 0.0  0.5  0.0  0.5  0.0  0.5  0.0  0.5]\n"
     ]
    }
   ],
   "source": [
    "vector = sim.run(circuit1_sv, shots=0).result().values[0]\n",
    "\n",
    "# Para que quede más bonito se descarta la parte imaginaria (siempre vale 0) y se\n",
    "# cambia el formato de impresión.\n",
    "np.set_printoptions(formatter={'float': '{: 0.1f}'.format})\n",
    "print(np.real(vector))  "
   ]
  },
  {
   "cell_type": "markdown",
   "metadata": {},
   "source": [
    "El resultado vuelve a ser correcto: esta vez solo tienen probabilidad de salir los estados en los que q2 vale 1."
   ]
  }
 ],
 "metadata": {
  "interpreter": {
   "hash": "ed3bb5e5cae2bee604be0ce107cddcbe477d1f55b7585d673d0cd5ec254712b1"
  },
  "kernelspec": {
   "display_name": "Python 3.9.7 ('braketEnv': venv)",
   "language": "python",
   "name": "python3"
  },
  "language_info": {
   "codemirror_mode": {
    "name": "ipython",
    "version": 3
   },
   "file_extension": ".py",
   "mimetype": "text/x-python",
   "name": "python",
   "nbconvert_exporter": "python",
   "pygments_lexer": "ipython3",
   "version": "3.9.7"
  },
  "orig_nbformat": 4
 },
 "nbformat": 4,
 "nbformat_minor": 2
}
