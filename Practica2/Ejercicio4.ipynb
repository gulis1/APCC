{
 "cells": [
  {
   "cell_type": "markdown",
   "metadata": {},
   "source": [
    "## Ejercicio 4"
   ]
  },
  {
   "cell_type": "markdown",
   "metadata": {},
   "source": [
    "### Qiskit - Teleportación"
   ]
  },
  {
   "cell_type": "markdown",
   "metadata": {},
   "source": [
    "Primero definimos el circuito del ejercicio 1, pero esta vez con qiskit."
   ]
  },
  {
   "cell_type": "code",
   "execution_count": 20,
   "metadata": {},
   "outputs": [
    {
     "data": {
      "text/html": [
       "<pre style=\"word-wrap: normal;white-space: pre;background: #fff0;line-height: 1.1;font-family: &quot;Courier New&quot;,Courier,monospace\">                    ┌───┐      \n",
       "q_0: ────────────■──┤ H ├─■────\n",
       "     ┌───┐     ┌─┴─┐└───┘ │    \n",
       "q_1: ┤ H ├──■──┤ X ├──■───┼────\n",
       "     └───┘┌─┴─┐└───┘┌─┴─┐ │ ┌─┐\n",
       "q_2: ─────┤ X ├─────┤ X ├─■─┤M├\n",
       "          └───┘     └───┘   └╥┘\n",
       "c: 3/════════════════════════╩═\n",
       "                             0 </pre>"
      ],
      "text/plain": [
       "                    ┌───┐      \n",
       "q_0: ────────────■──┤ H ├─■────\n",
       "     ┌───┐     ┌─┴─┐└───┘ │    \n",
       "q_1: ┤ H ├──■──┤ X ├──■───┼────\n",
       "     └───┘┌─┴─┐└───┘┌─┴─┐ │ ┌─┐\n",
       "q_2: ─────┤ X ├─────┤ X ├─■─┤M├\n",
       "          └───┘     └───┘   └╥┘\n",
       "c: 3/════════════════════════╩═\n",
       "                             0 "
      ]
     },
     "execution_count": 20,
     "metadata": {},
     "output_type": "execute_result"
    }
   ],
   "source": [
    "from qiskit import QuantumCircuit\n",
    "\n",
    "qiskit_tp = QuantumCircuit(3, 3)\n",
    "\n",
    "qiskit_tp.h(1)\n",
    "qiskit_tp.cx(1, 2)\n",
    "qiskit_tp.cx(0, 1)\n",
    "qiskit_tp.h(0)\n",
    "qiskit_tp.cx(1, 2)\n",
    "qiskit_tp.cz(0, 2)\n",
    "qiskit_tp.measure(2, 0)\n",
    "\n",
    "qiskit_tp.draw()"
   ]
  },
  {
   "cell_type": "markdown",
   "metadata": {},
   "source": [
    "Probamos en el circuito en un simulador antes de subirlo a un bakcend real."
   ]
  },
  {
   "cell_type": "code",
   "execution_count": 56,
   "metadata": {},
   "outputs": [
    {
     "data": {
      "image/png": "[encoded data removed]",
      "text/plain": [
       "<Figure size 504x360 with 1 Axes>"
      ]
     },
     "execution_count": 56,
     "metadata": {},
     "output_type": "execute_result"
    }
   ],
   "source": [
    "from qiskit import Aer\n",
    "from qiskit.visualization import plot_histogram\n",
    "\n",
    "sim = Aer.get_backend(\"qasm_simulator\")\n",
    "counts = sim.run(qiskit_tp, shots=1000).result().get_counts()\n",
    "plot_histogram(counts)\n"
   ]
  },
  {
   "cell_type": "markdown",
   "metadata": {},
   "source": [
    "El resultado es el esperado."
   ]
  },
  {
   "cell_type": "markdown",
   "metadata": {},
   "source": [
    "Ahora vamos a ejecutar el codigo en un backend real de IBM."
   ]
  },
  {
   "cell_type": "code",
   "execution_count": 32,
   "metadata": {},
   "outputs": [
    {
     "name": "stderr",
     "output_type": "stream",
     "text": [
      "ibmqfactory.load_account:WARNING:2022-03-03 12:36:58,366: Credentials are already in use. The existing account in the session will be replaced.\n"
     ]
    }
   ],
   "source": [
    "from qiskit import IBMQ\n",
    "\n",
    "# Cargamos la cuenta de IBMQ.\n",
    "provider = IBMQ.load_account()"
   ]
  },
  {
   "cell_type": "markdown",
   "metadata": {},
   "source": [
    "Esta vez se va a escoger el backend menos ocupado."
   ]
  },
  {
   "cell_type": "code",
   "execution_count": 67,
   "metadata": {},
   "outputs": [
    {
     "name": "stdout",
     "output_type": "stream",
     "text": [
      "ibmq_belem\n"
     ]
    }
   ],
   "source": [
    "from qiskit.providers.ibmq import least_busy\n",
    "\n",
    "backend = least_busy(provider.backends(filters=lambda x:  x.configuration().n_qubits == 5))\n",
    "print(backend)"
   ]
  },
  {
   "cell_type": "markdown",
   "metadata": {},
   "source": [
    "Transpilamos y encolamos el circuito en el backend. (*ibmq_belem*)"
   ]
  },
  {
   "cell_type": "code",
   "execution_count": 35,
   "metadata": {},
   "outputs": [
    {
     "name": "stdout",
     "output_type": "stream",
     "text": [
      "Job ID: 6220a97ee51382767185c73f\n"
     ]
    }
   ],
   "source": [
    "from qiskit import transpile\n",
    "\n",
    "circuit = transpile(qiskit_tp, backend)\n",
    "\n",
    "job = backend.run(circuit)\n",
    "print(\"Job ID:\", job.job_id())"
   ]
  },
  {
   "cell_type": "markdown",
   "metadata": {},
   "source": [
    "### Qiskit - Codificación superdensa."
   ]
  },
  {
   "cell_type": "markdown",
   "metadata": {},
   "source": [
    "Definimos el circuito para la codificación superdensa usando Qiskit. (Vamos a enviar el estado *10*)"
   ]
  },
  {
   "cell_type": "code",
   "execution_count": 60,
   "metadata": {},
   "outputs": [
    {
     "data": {
      "text/html": [
       "<pre style=\"word-wrap: normal;white-space: pre;background: #fff0;line-height: 1.1;font-family: &quot;Courier New&quot;,Courier,monospace\">          ┌───┐     ┌───┐     ┌─┐   \n",
       "q_0: ─────┤ X ├─────┤ X ├─────┤M├───\n",
       "     ┌───┐└─┬─┘┌───┐└─┬─┘┌───┐└╥┘┌─┐\n",
       "q_1: ┤ H ├──■──┤ Z ├──■──┤ H ├─╫─┤M├\n",
       "     └───┘     └───┘     └───┘ ║ └╥┘\n",
       "c: 2/══════════════════════════╩══╩═\n",
       "                               0  1 </pre>"
      ],
      "text/plain": [
       "          ┌───┐     ┌───┐     ┌─┐   \n",
       "q_0: ─────┤ X ├─────┤ X ├─────┤M├───\n",
       "     ┌───┐└─┬─┘┌───┐└─┬─┘┌───┐└╥┘┌─┐\n",
       "q_1: ┤ H ├──■──┤ Z ├──■──┤ H ├─╫─┤M├\n",
       "     └───┘     └───┘     └───┘ ║ └╥┘\n",
       "c: 2/══════════════════════════╩══╩═\n",
       "                               0  1 "
      ]
     },
     "execution_count": 60,
     "metadata": {},
     "output_type": "execute_result"
    }
   ],
   "source": [
    "from qiskit import QuantumCircuit\n",
    "\n",
    "qiskit_sd = QuantumCircuit(2, 2)\n",
    "qiskit_sd.h(1)\n",
    "qiskit_sd.cx(1, 0)\n",
    "qiskit_sd.z(1)\n",
    "qiskit_sd.cx(1, 0)\n",
    "qiskit_sd.h(1)\n",
    "\n",
    "qiskit_sd.measure([0, 1], [0, 1])\n",
    "\n",
    "qiskit_sd.draw()"
   ]
  },
  {
   "cell_type": "markdown",
   "metadata": {},
   "source": [
    "Probamos el código en un simulador."
   ]
  },
  {
   "cell_type": "code",
   "execution_count": 61,
   "metadata": {},
   "outputs": [
    {
     "data": {
      "image/png": "[encoded data removed]",
      "text/plain": [
       "<Figure size 504x360 with 1 Axes>"
      ]
     },
     "execution_count": 61,
     "metadata": {},
     "output_type": "execute_result"
    }
   ],
   "source": [
    "from qiskit import Aer\n",
    "from qiskit.visualization import plot_histogram\n",
    "\n",
    "sim = Aer.get_backend(\"qasm_simulator\")\n",
    "\n",
    "counts = sim.run(qiskit_sd, shots=1000).result().get_counts()\n",
    "plot_histogram(counts)\n"
   ]
  },
  {
   "cell_type": "markdown",
   "metadata": {},
   "source": [
    "El circuito está definido correctamente.\n",
    "\n",
    "Vamos a transpilarlo y subirlo al backend real (*ibmq_belem*)."
   ]
  },
  {
   "cell_type": "code",
   "execution_count": 62,
   "metadata": {},
   "outputs": [
    {
     "name": "stdout",
     "output_type": "stream",
     "text": [
      "Job ID: 6220acf3f5225d91ca64def0\n"
     ]
    }
   ],
   "source": [
    "from qiskit import transpile\n",
    "\n",
    "circuit = transpile(qiskit_sd, backend)\n",
    "\n",
    "job = backend.run(circuit)\n",
    "print(\"Job ID:\", job.job_id())"
   ]
  },
  {
   "cell_type": "markdown",
   "metadata": {},
   "source": [
    "### Ionq - Teleportación"
   ]
  },
  {
   "cell_type": "markdown",
   "metadata": {},
   "source": [
    "Definimos el mismo circuito que en el ejercicio 2."
   ]
  },
  {
   "cell_type": "code",
   "execution_count": 4,
   "metadata": {},
   "outputs": [
    {
     "name": "stdout",
     "output_type": "stream",
     "text": [
      "T  : |0|1|2|3|  4  |\n",
      "                    \n",
      "q0 : -----C-H-Rz(2)-\n",
      "          |         \n",
      "q1 : -H-C-X-C-------\n",
      "        |   |       \n",
      "q2 : ---X---X-------\n",
      "\n",
      "T  : |0|1|2|3|  4  |\n"
     ]
    }
   ],
   "source": [
    "from braket.circuits import Circuit\n",
    "    \n",
    "ionQ_tp = Circuit().h(1).cnot(1, 2).cnot(0, 1).h(0).cnot(1, 2).rz(0, 2)\n",
    "print(ionQ_tp)"
   ]
  },
  {
   "cell_type": "markdown",
   "metadata": {},
   "source": [
    "Lanzamos la tarea al computador de IonQ"
   ]
  },
  {
   "cell_type": "code",
   "execution_count": 5,
   "metadata": {},
   "outputs": [
    {
     "name": "stdout",
     "output_type": "stream",
     "text": [
      "Task: arn:aws:braket:us-east-1:975085098040:quantum-task/d6a1b1ef-ee88-4c9f-9fc8-ef0600a37855\n",
      "Status: CREATED\n"
     ]
    }
   ],
   "source": [
    "# Cremos la tarea y la dejamos en la cola de ejecución del computador de ionq\n",
    "import boto3\n",
    "from braket.circuits import Circuit\n",
    "from braket.aws import AwsDevice\n",
    "\n",
    "device = AwsDevice(\"arn:aws:braket:::device/qpu/ionq/ionQdevice\")\n",
    "s3_folder = (\"amazon-braket-f085dc433a90\", \"apcc2022/JulianCamara/IONQ\")\n",
    "\n",
    "task = device.run(ionQ_tp, s3_folder)\n",
    "print(\"Task:\",task.id)\n",
    "print(\"Status:\", task.state())"
   ]
  },
  {
   "cell_type": "markdown",
   "metadata": {},
   "source": [
    "Esperamos a los resultados y los ploteamos."
   ]
  },
  {
   "cell_type": "code",
   "execution_count": 6,
   "metadata": {},
   "outputs": [
    {
     "name": "stdout",
     "output_type": "stream",
     "text": [
      "En cola\n"
     ]
    }
   ],
   "source": [
    "# Se recogen los resultados\n",
    "\n",
    "from braket.aws import AwsQuantumTask\n",
    "from matplotlib import pyplot as plt\n",
    "\n",
    "# restore task with unique arn\n",
    "task = AwsQuantumTask(arn=\"arn:aws:braket:us-east-1:975085098040:quantum-task/d6a1b1ef-ee88-4c9f-9fc8-ef0600a37855\")\n",
    "# retrieve the result of the task\n",
    "estado = task.state()\n",
    "\n",
    "if task.state() == \"QUEUED\":\n",
    "    print(\"En cola\")\n",
    "else:\n",
    "    results = task.result().measurement_counts\n",
    "    print(results)\n",
    "    plt.bar(results.keys(), [x / 1000 for x in results.values()])"
   ]
  },
  {
   "cell_type": "markdown",
   "metadata": {},
   "source": [
    "### Ionq - Codificación superdensa."
   ]
  },
  {
   "cell_type": "code",
   "execution_count": null,
   "metadata": {},
   "outputs": [],
   "source": [
    "from braket.circuits import Circuit\n",
    "\n",
    "IonQ_sd = Circuit().h(1).cx(1, 0).z(1).cx(1, 0).h(1)\n",
    "print(IonQ_sd)"
   ]
  }
 ],
 "metadata": {
  "interpreter": {
   "hash": "664305c5f38da0fbd6acd685b1f80f5140a8bea51942820190a331484da22a23"
  },
  "kernelspec": {
   "display_name": "Python 3.9.7 ('qiksitEnv': venv)",
   "language": "python",
   "name": "python3"
  },
  "language_info": {
   "codemirror_mode": {
    "name": "ipython",
    "version": 3
   },
   "file_extension": ".py",
   "mimetype": "text/x-python",
   "name": "python",
   "nbconvert_exporter": "python",
   "pygments_lexer": "ipython3",
   "version": "3.9.7"
  },
  "orig_nbformat": 4
 },
 "nbformat": 4,
 "nbformat_minor": 2
}
